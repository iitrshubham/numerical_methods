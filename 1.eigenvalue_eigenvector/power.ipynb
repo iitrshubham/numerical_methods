import numpy as np

def power_method(mat, start, maxit):
    """
    Does maxit iterations of the power method
    on the matrix mat starting at start.
    Returns an approximation of the largest
    eigenvector of the matrix mat.
    """
    result = start
    for i in range(maxit):
        result = mat*result
        print(result)
        print(np.linalg.norm(result))
        result = result/np.linalg.norm(result)
    return result

def check(mat, otp):
    """
    Compares the output otp of the power
    method with the largest eigenvalue
    of the matrix mat.
    """
    prd = mat*otp
    eigval = prd[0]/otp[0]
    print ('computed eigenvalue :' , eigval)
    [eigs, vecs] = np.linalg.eig(mat)
    abseigs = list(abs(eigs))
    ind = abseigs.index(max(abseigs))
    print (' largest eigenvalue :', eigs[ind])

def main():
    """
    Prompts the user for a dimension
    and the number of iterations.
    """
    print ('Running the power method...')
    dim = int(input('Give the dimension : '))
    nbit = int(input('How many iterations ? '))
    j = complex(0, 1)
    m=[[1,3],[2,2]]
    t=np.array(m)
#rnd = np.random.normal(0, 1, (dim, dim)) + np.random.normal(0, 1, (dim, dim))*j
    nbs = np.random.normal(0, 1, (dim, 1)) + np.random.normal(0, 1, (dim, 1))*j
    rndmat = np.matrix(t)
    rndvec = np.matrix(nbs)
    eigmax = power_method(rndmat, rndvec, nbit)
    check(rndmat, eigmax)
    
main()
