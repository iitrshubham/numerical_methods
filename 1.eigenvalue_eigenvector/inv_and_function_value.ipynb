{
 "cells": [
  {
   "cell_type": "code",
   "execution_count": 1,
   "id": "e9930b6c",
   "metadata": {},
   "outputs": [],
   "source": [
    "import numpy as np"
   ]
  },
  {
   "cell_type": "code",
   "execution_count": 2,
   "id": "0b7aa5a0",
   "metadata": {},
   "outputs": [],
   "source": [
    "A = np.array([[25,5,1],[64,8,1],[144,12,1]])\n",
    "m = np.array([[1,3],[4,6],[4,7]])\n",
    "n = np.array([[1,2],[5,6],[5,6]])"
   ]
  },
  {
   "cell_type": "code",
   "execution_count": 3,
   "id": "7c1bd0f3",
   "metadata": {},
   "outputs": [
    {
     "data": {
      "text/plain": [
       "array([[ 49, 112],\n",
       "       [100, 247],\n",
       "       [196, 511]])"
      ]
     },
     "execution_count": 3,
     "metadata": {},
     "output_type": "execute_result"
    }
   ],
   "source": [
    "np.dot(A,m)"
   ]
  },
  {
   "cell_type": "code",
   "execution_count": 4,
   "id": "f4a31eee",
   "metadata": {},
   "outputs": [
    {
     "data": {
      "text/plain": [
       "array([[ 0.04761905, -0.08333333,  0.03571429],\n",
       "       [-0.95238095,  1.41666667, -0.46428571],\n",
       "       [ 4.57142857, -5.        ,  1.42857143]])"
      ]
     },
     "execution_count": 4,
     "metadata": {},
     "output_type": "execute_result"
    }
   ],
   "source": [
    "import scipy.linalg as sl\n",
    "sl.inv(A)"
   ]
  },
  {
   "cell_type": "code",
   "execution_count": 14,
   "id": "17aad077",
   "metadata": {},
   "outputs": [],
   "source": [
    "def a(x):\n",
    "    f=0.2+25*x-200*x**2+675*x**3-900*x**4+400*5\n",
    "    return f"
   ]
  },
  {
   "cell_type": "code",
   "execution_count": 16,
   "id": "7e6fb26d",
   "metadata": {},
   "outputs": [
    {
     "name": "stdout",
     "output_type": "stream",
     "text": [
      "1998.36\n"
     ]
    }
   ],
   "source": [
    "print(a(0.4))"
   ]
  },
  {
   "cell_type": "code",
   "execution_count": null,
   "id": "689e89e9",
   "metadata": {},
   "outputs": [],
   "source": []
  }
 ],
 "metadata": {
  "kernelspec": {
   "display_name": "Python 3",
   "language": "python",
   "name": "python3"
  },
  "language_info": {
   "codemirror_mode": {
    "name": "ipython",
    "version": 3
   },
   "file_extension": ".py",
   "mimetype": "text/x-python",
   "name": "python",
   "nbconvert_exporter": "python",
   "pygments_lexer": "ipython3",
   "version": "3.8.8"
  }
 },
 "nbformat": 4,
 "nbformat_minor": 5
}
