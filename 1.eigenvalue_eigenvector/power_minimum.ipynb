{
 "cells": [
  {
   "cell_type": "code",
   "execution_count": 2,
   "id": "0fbb0af5",
   "metadata": {},
   "outputs": [],
   "source": [
    "import numpy as np"
   ]
  },
  {
   "cell_type": "code",
   "execution_count": 3,
   "id": "a061518f",
   "metadata": {},
   "outputs": [],
   "source": [
    "import numpy.linalg as la"
   ]
  },
  {
   "cell_type": "code",
   "execution_count": 4,
   "id": "a220e4b2",
   "metadata": {},
   "outputs": [
    {
     "name": "stdout",
     "output_type": "stream",
     "text": [
      "Give the dimension : 3\n",
      "How many iterations ? 10\n",
      " largest eigenvalue of A inverse : (0.33333333333333337+0.47140452079103173j)\n",
      "smallest eigen value : (0.9999999999999998-1.4142135623730947j)\n"
     ]
    }
   ],
   "source": [
    "def power_method(mat, start, maxit):\n",
    "    \n",
    "    result = start\n",
    "    for i in range(maxit):\n",
    "        result = mat*result\n",
    "        result = result/np.linalg.norm(result)\n",
    "    return result\n",
    "\n",
    "def check(mat, otp):\n",
    "    \n",
    "    prd = mat*otp\n",
    "    eigval = prd[0]/otp[0]\n",
    "    #print 'computed eigenvalue :' , eigval\n",
    "    [eigs, vecs] = np.linalg.eig(mat)\n",
    "    abseigs = list(abs(eigs))\n",
    "    ind = abseigs.index(max(abseigs))\n",
    "    print (' largest eigenvalue of A inverse :', eigs[ind])\n",
    "    print('smallest eigen value :', 1/eigs[ind])\n",
    "    \n",
    "def main():\n",
    "    \n",
    "    #print 'Running the power method...'\n",
    "    dim = input('Give the dimension : ')\n",
    "    nbit = input('How many iterations ? ')\n",
    "    dim = int(dim)\n",
    "    nbit = int(nbit)\n",
    "    j = complex(0, 1)\n",
    "    rnd = np.random.normal(0, 1, (dim, dim)) \\\n",
    "        + np.random.normal(0, 1, (dim, dim))*j\n",
    "    nbs = np.random.normal(0, 1, (dim, 1)) \\\n",
    "        + np.random.normal(0, 1, (dim, 1))*j\n",
    "    rndmat = np.array([[2,1,-1],[4,3,8],[1,0,2]])\n",
    "    inv = la.inv(rndmat)\n",
    "    rndvec = np.matrix([[1],[1],[1]])\n",
    "    eigmax = power_method(inv, rndvec, nbit)\n",
    "    check(inv, eigmax)\n",
    "\n",
    "main()"
   ]
  },
  {
   "cell_type": "code",
   "execution_count": 4,
   "id": "0d3bfd6c",
   "metadata": {
    "scrolled": true
   },
   "outputs": [
    {
     "data": {
      "text/plain": [
       "array([[0.2],\n",
       "       [1. ],\n",
       "       [0.4]])"
      ]
     },
     "execution_count": 4,
     "metadata": {},
     "output_type": "execute_result"
    }
   ],
   "source": [
    "t=np.array(([[2,1,-1],[4,3,8],[1,0,2]]))\n",
    "t=la.inv(t)\n",
    "x1=np.array(([[1],[1],[1]]))\n",
    "Ax1=np.dot(t,x1)\n",
    "Ax1"
   ]
  },
  {
   "cell_type": "code",
   "execution_count": 5,
   "id": "94574d1e",
   "metadata": {},
   "outputs": [
    {
     "data": {
      "text/plain": [
       "array([[0.2],\n",
       "       [1. ],\n",
       "       [0.4]])"
      ]
     },
     "execution_count": 5,
     "metadata": {},
     "output_type": "execute_result"
    }
   ],
   "source": [
    "x2=Ax1/max(np.dot(t,x1))\n",
    "x2"
   ]
  },
  {
   "cell_type": "code",
   "execution_count": 6,
   "id": "f52060cf",
   "metadata": {},
   "outputs": [
    {
     "data": {
      "text/plain": [
       "array([[0.08],\n",
       "       [0.2 ],\n",
       "       [0.16]])"
      ]
     },
     "execution_count": 6,
     "metadata": {},
     "output_type": "execute_result"
    }
   ],
   "source": [
    "Ax2=np.dot(t,x2)\n",
    "Ax2"
   ]
  },
  {
   "cell_type": "code",
   "execution_count": 7,
   "id": "aa1436a3",
   "metadata": {},
   "outputs": [
    {
     "data": {
      "text/plain": [
       "array([[0.4],\n",
       "       [1. ],\n",
       "       [0.8]])"
      ]
     },
     "execution_count": 7,
     "metadata": {},
     "output_type": "execute_result"
    }
   ],
   "source": [
    "x3=Ax2/max(np.dot(t,x2))\n",
    "x3"
   ]
  },
  {
   "cell_type": "code",
   "execution_count": 8,
   "id": "ca35e3cb",
   "metadata": {},
   "outputs": [
    {
     "data": {
      "text/plain": [
       "array([[0.02666667],\n",
       "       [0.73333333],\n",
       "       [0.38666667]])"
      ]
     },
     "execution_count": 8,
     "metadata": {},
     "output_type": "execute_result"
    }
   ],
   "source": [
    "Ax3=np.dot(t,x3)\n",
    "Ax3"
   ]
  },
  {
   "cell_type": "code",
   "execution_count": 9,
   "id": "234cf7d6",
   "metadata": {},
   "outputs": [
    {
     "data": {
      "text/plain": [
       "array([[0.03636364],\n",
       "       [1.        ],\n",
       "       [0.52727273]])"
      ]
     },
     "execution_count": 9,
     "metadata": {},
     "output_type": "execute_result"
    }
   ],
   "source": [
    "x4=Ax3/max(np.dot(t,x3))\n",
    "x4"
   ]
  },
  {
   "cell_type": "code",
   "execution_count": 10,
   "id": "d997d345",
   "metadata": {},
   "outputs": [
    {
     "data": {
      "text/plain": [
       "array([[-0.02787879],\n",
       "       [ 0.36969697],\n",
       "       [ 0.27757576]])"
      ]
     },
     "execution_count": 10,
     "metadata": {},
     "output_type": "execute_result"
    }
   ],
   "source": [
    "Ax4=np.dot(t,x4)\n",
    "Ax4"
   ]
  },
  {
   "cell_type": "code",
   "execution_count": 11,
   "id": "f0c564dd",
   "metadata": {},
   "outputs": [
    {
     "data": {
      "text/plain": [
       "array([[-0.07540984],\n",
       "       [ 1.        ],\n",
       "       [ 0.75081967]])"
      ]
     },
     "execution_count": 11,
     "metadata": {},
     "output_type": "execute_result"
    }
   ],
   "source": [
    "x5=Ax4/max(np.dot(t,x4))\n",
    "x5"
   ]
  },
  {
   "cell_type": "code",
   "execution_count": null,
   "id": "8050c6c0",
   "metadata": {},
   "outputs": [],
   "source": []
  }
 ],
 "metadata": {
  "kernelspec": {
   "display_name": "Python 3",
   "language": "python",
   "name": "python3"
  },
  "language_info": {
   "codemirror_mode": {
    "name": "ipython",
    "version": 3
   },
   "file_extension": ".py",
   "mimetype": "text/x-python",
   "name": "python",
   "nbconvert_exporter": "python",
   "pygments_lexer": "ipython3",
   "version": "3.8.8"
  }
 },
 "nbformat": 4,
 "nbformat_minor": 5
}
