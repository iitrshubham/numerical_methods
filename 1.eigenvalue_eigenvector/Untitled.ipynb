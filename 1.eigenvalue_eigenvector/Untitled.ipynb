{
 "cells": [
  {
   "cell_type": "code",
   "execution_count": 4,
   "id": "446a4ec6",
   "metadata": {},
   "outputs": [
    {
     "name": "stdout",
     "output_type": "stream",
     "text": [
      "-1.2\n",
      "-4.746338333333334\n"
     ]
    },
    {
     "data": {
      "image/png": "[encoded data removed]",
      "text/plain": [
       "<Figure size 432x288 with 1 Axes>"
      ]
     },
     "metadata": {
      "needs_background": "light"
     },
     "output_type": "display_data"
    }
   ],
   "source": [
    "from math import pi\n",
    "from numpy import arange\n",
    "from matplotlib.pyplot import plot, show\n",
    "\n",
    "#y' = u\n",
    "#u' = -y\n",
    "\n",
    "def F(y, u, x):\n",
    "    return -0.6*u-8*y\n",
    "\n",
    "a = 0\n",
    "b = 1.0\n",
    "N =2\n",
    "h = (b-a)/N\n",
    "\n",
    "xpoints = arange(a,b,h)\n",
    "ypoints = []\n",
    "upoints = []\n",
    "\n",
    "y = 0.0\n",
    "u = 4 \n",
    "\n",
    "for x in xpoints:\n",
    "    ypoints.append(y)\n",
    "    upoints.append(u)\n",
    "\n",
    "    m1 = h*u\n",
    "    k1 = h*F(y, u, x)  #(x, v, t)\n",
    "    print(k1)\n",
    "    m2 = h*(u + 0.5*k1)\n",
    "    k2 = h*F(y+0.5*m1, u+0.5*k1, x+0.5*h)\n",
    "\n",
    "    m3 = h*(u + 0.5*k2)\n",
    "    k3 = h*F(y+0.5*m2, u+0.5*k2, x+0.5*h)\n",
    "\n",
    "    m4 = h*(u + k3)\n",
    "    k4 = h*F(y+m3, u+k3, x+h)\n",
    "\n",
    "    y += (m1 + 2*m2 + 2*m3 + m4)/6\n",
    "    u += (k1 + 2*k2 + 2*k3 + k4)/6\n",
    "\n",
    "plot(xpoints, ypoints)\n",
    "show()"
   ]
  },
  {
   "cell_type": "code",
   "execution_count": null,
   "id": "8b862fc5",
   "metadata": {},
   "outputs": [],
   "source": []
  }
 ],
 "metadata": {
  "kernelspec": {
   "display_name": "Python 3",
   "language": "python",
   "name": "python3"
  },
  "language_info": {
   "codemirror_mode": {
    "name": "ipython",
    "version": 3
   },
   "file_extension": ".py",
   "mimetype": "text/x-python",
   "name": "python",
   "nbconvert_exporter": "python",
   "pygments_lexer": "ipython3",
   "version": "3.8.8"
  }
 },
 "nbformat": 4,
 "nbformat_minor": 5
}
