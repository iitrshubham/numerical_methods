{
 "cells": [
  {
   "cell_type": "code",
   "execution_count": 1,
   "id": "cee15276",
   "metadata": {},
   "outputs": [],
   "source": [
    "import numpy as np"
   ]
  },
  {
   "cell_type": "code",
   "execution_count": 2,
   "id": "f931d9d5",
   "metadata": {},
   "outputs": [],
   "source": [
    "def power_method(mat, start, maxit):\n",
    "    \"\"\"\n",
    "    Does maxit iterations of the power method\n",
    "    on the matrix mat starting at start.\n",
    "    Returns an approximation of the largest\n",
    "    eigenvector of the matrix mat.\n",
    "    \"\"\"\n",
    "    result = start\n",
    "    for i in range(maxit):\n",
    "        result = mat*result\n",
    "        print('new eigenvector :' ,result)\n",
    "        print('new eigenvalue :', np.linalg.norm(result))\n",
    "        result = result/np.linalg.norm(result)\n",
    "    return result"
   ]
  },
  {
   "cell_type": "code",
   "execution_count": 3,
   "id": "1224764d",
   "metadata": {},
   "outputs": [],
   "source": [
    "def check(mat, otp):\n",
    "    \"\"\"\n",
    "    Compares the output otp of the power\n",
    "    method with the largest eigenvalue\n",
    "    of the matrix mat.\n",
    "    \"\"\"\n",
    "    prd = mat*otp\n",
    "    eigval = prd[0]/otp[0]\n",
    "    print ('computed eigenvalue :' , eigval)\n",
    "    [eigs, vecs] = np.linalg.eig(mat)\n",
    "    abseigs = list(abs(eigs))\n",
    "    ind = abseigs.index(max(abseigs))\n",
    "    print (' largest eigenvalue :', eigs[ind])\n",
    "    print (' largest eigenvector :', vecs[ind])"
   ]
  },
  {
   "cell_type": "code",
   "execution_count": 4,
   "id": "e828a4c8",
   "metadata": {},
   "outputs": [],
   "source": [
    "def main():\n",
    "    \"\"\"\n",
    "    Prompts the user for a dimension\n",
    "    and the number of iterations.\n",
    "    \"\"\"\n",
    "    print ('Running the power method...')\n",
    "    dim = int(input('Give the dimension : '))\n",
    "    nbit = int(input('How many iterations ? '))\n",
    "    j = complex(0, 1)\n",
    "    #m=([[2,1,-1],[4,-3,8],[1,0,2]])\n",
    "    t=np.array([[2,1,-1],[4,-3,8],[1,0,2]])\n",
    "    nbs = np.random.normal(0, 1, (dim, 1)) + np.random.normal(0, 1, (dim, 1))\n",
    "    rndmat = np.matrix(t)\n",
    "    rndvec = np.matrix(nbs)\n",
    "    eigmax = power_method(rndmat, rndvec, nbit)\n",
    "    check(rndmat, eigmax)"
   ]
  },
  {
   "cell_type": "code",
   "execution_count": 5,
   "id": "17994a98",
   "metadata": {},
   "outputs": [
    {
     "name": "stdout",
     "output_type": "stream",
     "text": [
      "Running the power method...\n",
      "Give the dimension : 3\n",
      "How many iterations ? 5\n",
      "new eigenvector : [[-5.98899925]\n",
      " [10.3533569 ]\n",
      " [ 1.21556016]]\n",
      "new eigenvalue : 12.022383191512807\n",
      "new eigenvector : [[-0.23624282]\n",
      " [-3.7672719 ]\n",
      " [-0.29593791]]\n",
      "new eigenvalue : 3.786255075384535\n",
      "new eigenvector : [[-1.04161488]\n",
      " [ 2.11009057]\n",
      " [-0.21871708]]\n",
      "new eigenvalue : 2.363319901922942\n",
      "new eigenvector : [[ 0.10391225]\n",
      " [-5.18189174]\n",
      " [-0.62583531]]\n",
      "new eigenvalue : 5.220581342615833\n",
      "new eigenvector : [[-0.83290186]\n",
      " [ 2.09835668]\n",
      " [-0.2198526 ]]\n",
      "new eigenvalue : 2.268294831211183\n",
      "computed eigenvalue : [[-0.78329222]]\n",
      " largest eigenvalue : -3.4494897427831774\n",
      " largest eigenvector : [[-0.40824829  0.57725109 -0.03205855]]\n"
     ]
    }
   ],
   "source": [
    "#rnd = np.random.normal(0, 1, (dim, dim)) + np.random.normal(0, 1, (dim, dim))*j\n",
    "\n",
    "    \n",
    "main()\n"
   ]
  },
  {
   "cell_type": "code",
   "execution_count": 6,
   "id": "569cefde",
   "metadata": {},
   "outputs": [],
   "source": [
    "def main():\n",
    "    \"\"\"\n",
    "    Prompts the user for a dimension\n",
    "    and the number of iterations.\n",
    "    \"\"\"\n",
    "    print ('Running the power method...')\n",
    "    dim = int(input('Give the dimension : '))\n",
    "    nbit = int(input('How many iterations ? '))\n",
    "    j = complex(0, 1)\n",
    "    #m=([[2,1,-1],[4,-3,8],[1,0,2]])\n",
    "    t=np.array([[1.5,0,1],[-0.5,0.5,-0.5],[-0.5,0,0]])\n",
    "    nbs = np.random.normal(0, 1, (dim, 1)) + np.random.normal(0, 1, (dim, 1))\n",
    "    rndmat = np.matrix(t)\n",
    "    rndvec = np.matrix(nbs)\n",
    "    eigmax = power_method(rndmat, rndvec, nbit)\n",
    "    check(rndmat, eigmax)"
   ]
  },
  {
   "cell_type": "code",
   "execution_count": 7,
   "id": "da5eddd8",
   "metadata": {},
   "outputs": [
    {
     "name": "stdout",
     "output_type": "stream",
     "text": [
      "Running the power method...\n",
      "Give the dimension : 3\n",
      "How many iterations ? 5\n",
      "new eigenvector : [[-6.89128227]\n",
      " [ 1.6740407 ]\n",
      " [ 1.47351135]]\n",
      "new eigenvalue : 7.243163623134652\n",
      "new eigenvector : [[-1.22369347]\n",
      " [ 0.48955208]\n",
      " [ 0.47570942]]\n",
      "new eigenvalue : 1.4012089087457864\n",
      "new eigenvector : [[-0.9704697 ]\n",
      " [ 0.44159587]\n",
      " [ 0.43665633]]\n",
      "new eigenvalue : 1.1521662686059246\n",
      "new eigenvector : [[-0.88446282]\n",
      " [ 0.42329361]\n",
      " [ 0.42115002]]\n",
      "new eigenvalue : 1.067154773135195\n",
      "new eigenvector : [[-0.84855939]\n",
      " [ 0.41540667]\n",
      " [ 0.41440232]]\n",
      "new eigenvalue : 1.0316709860570443\n",
      "computed eigenvalue : [[1.01164018]]\n",
      " largest eigenvalue : 1.0\n",
      " largest eigenvector : [[ 1.         -0.40824829  0.        ]]\n"
     ]
    }
   ],
   "source": [
    "main()"
   ]
  },
  {
   "cell_type": "code",
   "execution_count": null,
   "id": "94c5369a",
   "metadata": {},
   "outputs": [],
   "source": []
  },
  {
   "cell_type": "code",
   "execution_count": null,
   "id": "469d8d46",
   "metadata": {},
   "outputs": [],
   "source": []
  },
  {
   "cell_type": "code",
   "execution_count": null,
   "id": "43caff54",
   "metadata": {},
   "outputs": [],
   "source": []
  },
  {
   "cell_type": "code",
   "execution_count": null,
   "id": "815ac83c",
   "metadata": {},
   "outputs": [],
   "source": []
  },
  {
   "cell_type": "code",
   "execution_count": null,
   "id": "f2b1fe72",
   "metadata": {},
   "outputs": [],
   "source": []
  },
  {
   "cell_type": "code",
   "execution_count": null,
   "id": "00cf4157",
   "metadata": {},
   "outputs": [],
   "source": []
  },
  {
   "cell_type": "code",
   "execution_count": null,
   "id": "ca326e49",
   "metadata": {},
   "outputs": [],
   "source": []
  },
  {
   "cell_type": "raw",
   "id": "895f02c8",
   "metadata": {},
   "source": [
    "for i in range(0,10):\n",
    "    Ax=np.dot(t,x1)"
   ]
  },
  {
   "cell_type": "code",
   "execution_count": 2,
   "id": "c67502b2",
   "metadata": {},
   "outputs": [
    {
     "data": {
      "text/plain": [
       "array([[2],\n",
       "       [9],\n",
       "       [3]])"
      ]
     },
     "execution_count": 2,
     "metadata": {},
     "output_type": "execute_result"
    }
   ],
   "source": [
    "t=np.array([[2,1,-1],[4,-3,8],[1,0,2]])\n",
    "x1=np.array([[1],[1],[1]])\n",
    "Ax1=np.dot(t,x1)\n",
    "Ax1"
   ]
  },
  {
   "cell_type": "code",
   "execution_count": 3,
   "id": "7d56a378",
   "metadata": {},
   "outputs": [
    {
     "data": {
      "text/plain": [
       "array([[0.22222222],\n",
       "       [1.        ],\n",
       "       [0.33333333]])"
      ]
     },
     "execution_count": 3,
     "metadata": {},
     "output_type": "execute_result"
    }
   ],
   "source": [
    "x2=Ax1/max(np.dot(t,x1))\n",
    "x2"
   ]
  },
  {
   "cell_type": "code",
   "execution_count": 4,
   "id": "2d5537b1",
   "metadata": {},
   "outputs": [
    {
     "data": {
      "text/plain": [
       "array([[1.11111111],\n",
       "       [0.55555556],\n",
       "       [0.88888889]])"
      ]
     },
     "execution_count": 4,
     "metadata": {},
     "output_type": "execute_result"
    }
   ],
   "source": [
    "Ax2=np.dot(t,x2)\n",
    "Ax2"
   ]
  },
  {
   "cell_type": "code",
   "execution_count": 5,
   "id": "bafe9ce5",
   "metadata": {},
   "outputs": [
    {
     "data": {
      "text/plain": [
       "array([[1. ],\n",
       "       [0.5],\n",
       "       [0.8]])"
      ]
     },
     "execution_count": 5,
     "metadata": {},
     "output_type": "execute_result"
    }
   ],
   "source": [
    "x3=Ax2/max(np.dot(t,x2))\n",
    "x3"
   ]
  },
  {
   "cell_type": "code",
   "execution_count": 6,
   "id": "9cfab7fd",
   "metadata": {},
   "outputs": [
    {
     "data": {
      "text/plain": [
       "array([[1.7],\n",
       "       [8.9],\n",
       "       [2.6]])"
      ]
     },
     "execution_count": 6,
     "metadata": {},
     "output_type": "execute_result"
    }
   ],
   "source": [
    "Ax3=np.dot(t,x3)\n",
    "Ax3"
   ]
  },
  {
   "cell_type": "code",
   "execution_count": 7,
   "id": "7b0935d0",
   "metadata": {},
   "outputs": [
    {
     "data": {
      "text/plain": [
       "array([[0.19101124],\n",
       "       [1.        ],\n",
       "       [0.29213483]])"
      ]
     },
     "execution_count": 7,
     "metadata": {},
     "output_type": "execute_result"
    }
   ],
   "source": [
    "x4=Ax3/max(np.dot(t,x3))\n",
    "x4"
   ]
  },
  {
   "cell_type": "code",
   "execution_count": 8,
   "id": "21f518f2",
   "metadata": {},
   "outputs": [
    {
     "data": {
      "text/plain": [
       "array([[1.08988764],\n",
       "       [0.1011236 ],\n",
       "       [0.7752809 ]])"
      ]
     },
     "execution_count": 8,
     "metadata": {},
     "output_type": "execute_result"
    }
   ],
   "source": [
    "Ax4=np.dot(t,x4)\n",
    "Ax4"
   ]
  },
  {
   "cell_type": "code",
   "execution_count": 9,
   "id": "c24eead3",
   "metadata": {
    "scrolled": true
   },
   "outputs": [
    {
     "data": {
      "text/plain": [
       "array([[1.        ],\n",
       "       [0.09278351],\n",
       "       [0.71134021]])"
      ]
     },
     "execution_count": 9,
     "metadata": {},
     "output_type": "execute_result"
    }
   ],
   "source": [
    "x5=Ax4/max(np.dot(t,x4))\n",
    "x5"
   ]
  },
  {
   "cell_type": "code",
   "execution_count": null,
   "id": "63d92fac",
   "metadata": {},
   "outputs": [],
   "source": []
  }
 ],
 "metadata": {
  "kernelspec": {
   "display_name": "Python 3",
   "language": "python",
   "name": "python3"
  },
  "language_info": {
   "codemirror_mode": {
    "name": "ipython",
    "version": 3
   },
   "file_extension": ".py",
   "mimetype": "text/x-python",
   "name": "python",
   "nbconvert_exporter": "python",
   "pygments_lexer": "ipython3",
   "version": "3.8.8"
  }
 },
 "nbformat": 4,
 "nbformat_minor": 5
}
