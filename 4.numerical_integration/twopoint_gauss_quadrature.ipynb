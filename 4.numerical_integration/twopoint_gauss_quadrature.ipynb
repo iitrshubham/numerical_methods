{
 "cells": [
  {
   "cell_type": "code",
   "execution_count": 1,
   "id": "096464a6",
   "metadata": {},
   "outputs": [],
   "source": [
    "import math"
   ]
  },
  {
   "cell_type": "code",
   "execution_count": 2,
   "id": "d03d2abf",
   "metadata": {},
   "outputs": [],
   "source": [
    "xw = [{\"x\":[0], \"w\":[2]},\n",
    "    {\"x\": [-math.sqrt(1 / 3), math.sqrt(1 / 3)], \"w\": [1, 1]},\n",
    "    {\"x\": [-math.sqrt(3 / 5), 0, math.sqrt(3 / 5)], \"w\": [5 / 9, 8 / 9, 5 / 9]},\n",
    "    {\"x\":[-0.8611363116, -0.3399810436, 0.3399810436, 0.8611363116], \"w\":[-0.3478548451, -0.6521451549, 0.6521451549, 0.3478548451]}]"
   ]
  },
  {
   "cell_type": "code",
   "execution_count": 35,
   "id": "a1ec0996",
   "metadata": {},
   "outputs": [],
   "source": [
    "def gauslegendre(bottom, top, n):\n",
    "    area = 0\n",
    "    for i in range(0, n):\n",
    "        area += xw[n - 1][\"w\"][i] * g(bottom, top, xw[n - 1][\"x\"][i])\n",
    "        \n",
    "    area *= 0.5 * (top - bottom)\n",
    "    \n",
    "    return area"
   ]
  },
  {
   "cell_type": "code",
   "execution_count": 36,
   "id": "f399b784",
   "metadata": {},
   "outputs": [],
   "source": [
    "def g(bottom, top, t):\n",
    "    return f(0.5 * (top - bottom) * t + 0.5 * (top + bottom))"
   ]
  },
  {
   "cell_type": "code",
   "execution_count": 37,
   "id": "750629de",
   "metadata": {},
   "outputs": [],
   "source": [
    "def f(x):\n",
    "    return (2000*math.log(140000/(140000-2100*x))-9.8*x) "
   ]
  },
  {
   "cell_type": "markdown",
   "id": "92c51e57",
   "metadata": {},
   "source": [
    "def f(x):\n",
    "    return (math.e ** x) * (math.sin(x) ** 2)"
   ]
  },
  {
   "cell_type": "code",
   "execution_count": 38,
   "id": "ab3f19dc",
   "metadata": {},
   "outputs": [
    {
     "name": "stdout",
     "output_type": "stream",
     "text": [
      "I = 11058.440781141358\n"
     ]
    }
   ],
   "source": [
    "if __name__ == \"__main__\":\n",
    "    print(\"I =\", gauslegendre(8, 30, 2))"
   ]
  },
  {
   "cell_type": "code",
   "execution_count": 39,
   "id": "8732726f",
   "metadata": {},
   "outputs": [
    {
     "data": {
      "text/plain": [
       "1507.2238893887059"
      ]
     },
     "execution_count": 39,
     "metadata": {},
     "output_type": "execute_result"
    }
   ],
   "source": [
    "g(8,30,2)"
   ]
  },
  {
   "cell_type": "code",
   "execution_count": 40,
   "id": "854b33ad",
   "metadata": {},
   "outputs": [
    {
     "data": {
      "text/plain": [
       "296.8316517849638"
      ]
     },
     "execution_count": 40,
     "metadata": {},
     "output_type": "execute_result"
    }
   ],
   "source": [
    "bottom, top=8,30\n",
    "t=-math.sqrt(1 / 3)\n",
    "f1=f(0.5 * (top - bottom) * t + 0.5 * (top + bottom))\n",
    "f1"
   ]
  },
  {
   "cell_type": "code",
   "execution_count": 41,
   "id": "2198fe8a",
   "metadata": {},
   "outputs": [
    {
     "data": {
      "text/plain": [
       "708.4811465006142"
      ]
     },
     "execution_count": 41,
     "metadata": {},
     "output_type": "execute_result"
    }
   ],
   "source": [
    "t=math.sqrt(1 / 3)\n",
    "f2=f(0.5 * (top - bottom) * t + 0.5 * (top + bottom))\n",
    "f2"
   ]
  },
  {
   "cell_type": "code",
   "execution_count": 42,
   "id": "e102dc82",
   "metadata": {},
   "outputs": [],
   "source": [
    "c1=0.5 * (top - bottom)\n",
    "c2=0.5 * (top - bottom)"
   ]
  },
  {
   "cell_type": "code",
   "execution_count": 43,
   "id": "fa9cb574",
   "metadata": {},
   "outputs": [
    {
     "data": {
      "text/plain": [
       "11058.440781141358"
      ]
     },
     "execution_count": 43,
     "metadata": {},
     "output_type": "execute_result"
    }
   ],
   "source": [
    "Integration=c1*f1+c2*f2\n",
    "Integration"
   ]
  },
  {
   "cell_type": "code",
   "execution_count": null,
   "id": "035f377b",
   "metadata": {},
   "outputs": [],
   "source": []
  }
 ],
 "metadata": {
  "kernelspec": {
   "display_name": "Python 3",
   "language": "python",
   "name": "python3"
  },
  "language_info": {
   "codemirror_mode": {
    "name": "ipython",
    "version": 3
   },
   "file_extension": ".py",
   "mimetype": "text/x-python",
   "name": "python",
   "nbconvert_exporter": "python",
   "pygments_lexer": "ipython3",
   "version": "3.8.8"
  }
 },
 "nbformat": 4,
 "nbformat_minor": 5
}
