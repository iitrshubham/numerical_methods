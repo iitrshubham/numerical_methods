{
 "cells": [
  {
   "cell_type": "code",
   "execution_count": 1,
   "id": "0d2fde65",
   "metadata": {},
   "outputs": [],
   "source": [
    "import numpy as np"
   ]
  },
  {
   "cell_type": "code",
   "execution_count": 2,
   "id": "bb710352",
   "metadata": {},
   "outputs": [],
   "source": [
    "b=22\n",
    "a=0.2\n",
    "n=4"
   ]
  },
  {
   "cell_type": "code",
   "execution_count": 3,
   "id": "018505ad",
   "metadata": {},
   "outputs": [],
   "source": [
    "def f(x): \n",
    "    return x*np.exp(x)"
   ]
  },
  {
   "cell_type": "code",
   "execution_count": 4,
   "id": "68d37c65",
   "metadata": {},
   "outputs": [],
   "source": [
    "def trap(f, a, b, n):\n",
    "    h = (b-a)/n\n",
    "    \n",
    "    area = (f(a) + f(b))/2.0\n",
    "    print(a,f(a))\n",
    "    for i in range(1, n):\n",
    "        x = a + i*h;\n",
    "\n",
    "        area = area + f(x)\n",
    "        \n",
    "        print(x,f(x))\n",
    "        \n",
    "    area = area*h\n",
    "    print(b,f(b))\n",
    "    return area"
   ]
  },
  {
   "cell_type": "code",
   "execution_count": 5,
   "id": "9f0450cf",
   "metadata": {},
   "outputs": [
    {
     "name": "stdout",
     "output_type": "stream",
     "text": [
      "0.2 0.244280551632034\n",
      "5.65 1606.2467819051533\n",
      "11.1 734499.8778689799\n",
      "16.55 254901078.8606013\n",
      "22 78868082614.89502\n"
     ]
    },
    {
     "data": {
      "text/plain": [
       "216308747784.42422"
      ]
     },
     "execution_count": 5,
     "metadata": {},
     "output_type": "execute_result"
    }
   ],
   "source": [
    "trap(f, a, b, n)"
   ]
  },
  {
   "cell_type": "code",
   "execution_count": null,
   "id": "d27a2696",
   "metadata": {},
   "outputs": [],
   "source": []
  }
 ],
 "metadata": {
  "kernelspec": {
   "display_name": "Python 3",
   "language": "python",
   "name": "python3"
  },
  "language_info": {
   "codemirror_mode": {
    "name": "ipython",
    "version": 3
   },
   "file_extension": ".py",
   "mimetype": "text/x-python",
   "name": "python",
   "nbconvert_exporter": "python",
   "pygments_lexer": "ipython3",
   "version": "3.8.8"
  }
 },
 "nbformat": 4,
 "nbformat_minor": 5
}
