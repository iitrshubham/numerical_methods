{
 "cells": [
  {
   "cell_type": "code",
   "execution_count": 1,
   "id": "0d2fde65",
   "metadata": {},
   "outputs": [],
   "source": [
    "import numpy as np"
   ]
  },
  {
   "cell_type": "code",
   "execution_count": 2,
   "id": "bb710352",
   "metadata": {},
   "outputs": [],
   "source": [
    "b=2\n",
    "a=0\n",
    "n=4"
   ]
  },
  {
   "cell_type": "code",
   "execution_count": 3,
   "id": "018505ad",
   "metadata": {},
   "outputs": [],
   "source": [
    "def f(x): \n",
    "    return np.exp(2*x)*np.sin(3*x)"
   ]
  },
  {
   "cell_type": "code",
   "execution_count": 4,
   "id": "68d37c65",
   "metadata": {},
   "outputs": [],
   "source": [
    "def trap(f, a, b, n):\n",
    "    h = (b-a)/n\n",
    "    area = (f(a) + f(b))/2.0\n",
    "    print(a,f(a))\n",
    "    for i in range(1, n):\n",
    "        x = a + i*h;\n",
    "        x;\n",
    "        #print(x, f(x))\n",
    "        area = area + f(x)\n",
    "        \n",
    "        print(x,f(x))\n",
    "        \n",
    "    area = area*h\n",
    "    print(b,f(b))\n",
    "    return area"
   ]
  },
  {
   "cell_type": "code",
   "execution_count": 5,
   "id": "9f0450cf",
   "metadata": {},
   "outputs": [
    {
     "name": "stdout",
     "output_type": "stream",
     "text": [
      "0 0.0\n",
      "0.5 2.7114724960648\n",
      "1.0 1.0427436562359045\n",
      "1.5 -19.634217271890293\n",
      "2 -15.255569292250698\n"
     ]
    },
    {
     "data": {
      "text/plain": [
       "-11.753892882857468"
      ]
     },
     "execution_count": 5,
     "metadata": {},
     "output_type": "execute_result"
    }
   ],
   "source": [
    "trap(f, a, b, n)"
   ]
  },
  {
   "cell_type": "code",
   "execution_count": null,
   "id": "d27a2696",
   "metadata": {},
   "outputs": [],
   "source": []
  }
 ],
 "metadata": {
  "kernelspec": {
   "display_name": "Python 3",
   "language": "python",
   "name": "python3"
  },
  "language_info": {
   "codemirror_mode": {
    "name": "ipython",
    "version": 3
   },
   "file_extension": ".py",
   "mimetype": "text/x-python",
   "name": "python",
   "nbconvert_exporter": "python",
   "pygments_lexer": "ipython3",
   "version": "3.8.8"
  }
 },
 "nbformat": 4,
 "nbformat_minor": 5
}
