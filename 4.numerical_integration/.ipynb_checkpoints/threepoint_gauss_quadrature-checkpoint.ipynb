{
 "cells": [
  {
   "cell_type": "code",
   "execution_count": 1,
   "id": "096464a6",
   "metadata": {},
   "outputs": [],
   "source": [
    "import math"
   ]
  },
  {
   "cell_type": "code",
   "execution_count": 2,
   "id": "d03d2abf",
   "metadata": {},
   "outputs": [],
   "source": [
    "xw = [{\"x\":[0], \"w\":[2]},\n",
    "    {\"x\": [-math.sqrt(1 / 3), math.sqrt(1 / 3)], \"w\": [1, 1]},\n",
    "    {\"x\": [-math.sqrt(3 / 5), 0, math.sqrt(3 / 5)], \"w\": [5 / 9, 8 / 9, 5 / 9]},\n",
    "    {\"x\":[-0.8611363116, -0.3399810436, 0.3399810436, 0.8611363116], \"w\":[-0.3478548451, -0.6521451549, 0.6521451549, 0.3478548451]}]"
   ]
  },
  {
   "cell_type": "code",
   "execution_count": 3,
   "id": "a1ec0996",
   "metadata": {},
   "outputs": [],
   "source": [
    "def gauslegendre(bottom, top, n):\n",
    "    area = 0\n",
    "    for i in range(0, n):\n",
    "        area += xw[n - 1][\"w\"][i] * g(bottom, top, xw[n - 1][\"x\"][i])\n",
    "        \n",
    "    area *= 0.5 * (top - bottom)\n",
    "    \n",
    "    return area"
   ]
  },
  {
   "cell_type": "code",
   "execution_count": 4,
   "id": "8d42fd2d",
   "metadata": {},
   "outputs": [],
   "source": [
    "def g(bottom, top, t):\n",
    "    return f(0.5 * (top - bottom) * t + 0.5 * (top + bottom))"
   ]
  },
  {
   "cell_type": "code",
   "execution_count": 5,
   "id": "750629de",
   "metadata": {},
   "outputs": [],
   "source": [
    "def f(x):\n",
    "    return x*math.sqrt((16-x**2)**3)"
   ]
  },
  {
   "cell_type": "markdown",
   "id": "92c51e57",
   "metadata": {},
   "source": [
    "def f(x):\n",
    "    return (math.e ** x) * (math.sin(x) ** 2)"
   ]
  },
  {
   "cell_type": "code",
   "execution_count": 6,
   "id": "ab3f19dc",
   "metadata": {},
   "outputs": [
    {
     "name": "stdout",
     "output_type": "stream",
     "text": [
      "I = 191.3878004270724\n"
     ]
    }
   ],
   "source": [
    "if __name__ == \"__main__\":\n",
    "    print(\"I =\", gauslegendre(0.5, 3.5, 3))"
   ]
  },
  {
   "cell_type": "code",
   "execution_count": 7,
   "id": "8732726f",
   "metadata": {},
   "outputs": [],
   "source": [
    "#g(0.5, 3.5, 3)"
   ]
  },
  {
   "cell_type": "code",
   "execution_count": 8,
   "id": "854b33ad",
   "metadata": {},
   "outputs": [
    {
     "data": {
      "text/plain": [
       "50.14556510107195"
      ]
     },
     "execution_count": 8,
     "metadata": {},
     "output_type": "execute_result"
    }
   ],
   "source": [
    "bottom, top=0.5,3.5\n",
    "t=-math.sqrt(3 / 5)\n",
    "f1=f(0.5 * (top - bottom) * t + 0.5 * (top + bottom))\n",
    "f1"
   ]
  },
  {
   "cell_type": "code",
   "execution_count": 9,
   "id": "3c835ca3",
   "metadata": {},
   "outputs": [
    {
     "data": {
      "text/plain": [
       "83.13843876330611"
      ]
     },
     "execution_count": 9,
     "metadata": {},
     "output_type": "execute_result"
    }
   ],
   "source": [
    "bottom, top=0.5,3.5\n",
    "t=0\n",
    "f2=f(0.5 * (top - bottom) * t + 0.5 * (top + bottom))\n",
    "f2"
   ]
  },
  {
   "cell_type": "code",
   "execution_count": 10,
   "id": "2198fe8a",
   "metadata": {},
   "outputs": [
    {
     "data": {
      "text/plain": [
       "46.498293390125134"
      ]
     },
     "execution_count": 10,
     "metadata": {},
     "output_type": "execute_result"
    }
   ],
   "source": [
    "t=math.sqrt(3 / 5)\n",
    "f3=f(0.5 * (top - bottom) * t + 0.5 * (top + bottom))\n",
    "f3"
   ]
  },
  {
   "cell_type": "code",
   "execution_count": 11,
   "id": "de99c07c",
   "metadata": {},
   "outputs": [
    {
     "data": {
      "text/plain": [
       "2.0"
      ]
     },
     "execution_count": 11,
     "metadata": {},
     "output_type": "execute_result"
    }
   ],
   "source": [
    "m=5 / 9+5 / 9+8 / 9\n",
    "m"
   ]
  },
  {
   "cell_type": "code",
   "execution_count": 12,
   "id": "e102dc82",
   "metadata": {},
   "outputs": [],
   "source": [
    "c1=5 / (9*m) * (top - bottom)\n",
    "c2=8 / (9*m) * (top - bottom)\n",
    "c3=5 / (9*m) * (top - bottom)"
   ]
  },
  {
   "cell_type": "code",
   "execution_count": 13,
   "id": "fa9cb574",
   "metadata": {},
   "outputs": [
    {
     "data": {
      "text/plain": [
       "191.38780042707236"
      ]
     },
     "execution_count": 13,
     "metadata": {},
     "output_type": "execute_result"
    }
   ],
   "source": [
    "Integration=c1*f1+c2*f2+c3*f3\n",
    "Integration"
   ]
  },
  {
   "cell_type": "code",
   "execution_count": null,
   "id": "035f377b",
   "metadata": {},
   "outputs": [],
   "source": []
  },
  {
   "cell_type": "code",
   "execution_count": null,
   "id": "931db3eb",
   "metadata": {},
   "outputs": [],
   "source": []
  }
 ],
 "metadata": {
  "kernelspec": {
   "display_name": "Python 3",
   "language": "python",
   "name": "python3"
  },
  "language_info": {
   "codemirror_mode": {
    "name": "ipython",
    "version": 3
   },
   "file_extension": ".py",
   "mimetype": "text/x-python",
   "name": "python",
   "nbconvert_exporter": "python",
   "pygments_lexer": "ipython3",
   "version": "3.8.8"
  }
 },
 "nbformat": 4,
 "nbformat_minor": 5
}
