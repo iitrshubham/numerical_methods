{
 "cells": [
  {
   "cell_type": "code",
   "execution_count": 2,
   "id": "ccde36fc",
   "metadata": {},
   "outputs": [
    {
     "name": "stdout",
     "output_type": "stream",
     "text": [
      "148.000000\n"
     ]
    }
   ],
   "source": [
    "# Python code for simpson's 1 / 3 rule\n",
    "import math\n",
    "\n",
    "\n",
    "\n",
    "# Function for approximate integral\n",
    "def simpsons_( ll, ul, n ):\n",
    "\n",
    "\t# Calculating the value of h\n",
    "\th = ( ul - ll )/n\n",
    "\n",
    "\t# List for storing value of x and f(x)\n",
    "\tx = [0,3,6,9,12,15,18]\n",
    "\tfx = [9.8,9.1,8.5,8.0,7.7,7.5,7.4]\n",
    "\n",
    "\n",
    "\n",
    "\t# Calculating result\n",
    "\tres = 0\n",
    "\ti = 0\n",
    "\twhile i<= n:\n",
    "\t\tif i == 0 or i == n:\n",
    "\t\t\tres+= fx[i]\n",
    "\t\telif i % 2 != 0:\n",
    "\t\t\tres+= 4 * fx[i]\n",
    "\t\telse:\n",
    "\t\t\tres+= 2 * fx[i]\n",
    "\t\ti+= 1\n",
    "\tres = res * (h / 3)\n",
    "\treturn res\n",
    "\t\n",
    "# Driver code\n",
    "lower_limit = 0 # Lower limit\n",
    "upper_limit = 18 # Upper limit\n",
    "n = 6 # Number of interval\n",
    "print(\"%.6f\"% simpsons_(lower_limit, upper_limit, n))\n"
   ]
  },
  {
   "cell_type": "code",
   "execution_count": null,
   "id": "aca4519a",
   "metadata": {},
   "outputs": [],
   "source": []
  }
 ],
 "metadata": {
  "kernelspec": {
   "display_name": "Python 3",
   "language": "python",
   "name": "python3"
  },
  "language_info": {
   "codemirror_mode": {
    "name": "ipython",
    "version": 3
   },
   "file_extension": ".py",
   "mimetype": "text/x-python",
   "name": "python",
   "nbconvert_exporter": "python",
   "pygments_lexer": "ipython3",
   "version": "3.8.8"
  }
 },
 "nbformat": 4,
 "nbformat_minor": 5
}
