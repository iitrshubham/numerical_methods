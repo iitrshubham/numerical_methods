{
 "cells": [
  {
   "cell_type": "code",
   "execution_count": 1,
   "id": "fe4237b3",
   "metadata": {},
   "outputs": [],
   "source": [
    "import numpy as np\n",
    "import matplotlib.pyplot as plt\n",
    "import sympy as sy"
   ]
  },
  {
   "cell_type": "markdown",
   "id": "32a50ee3",
   "metadata": {},
   "source": [
    "def f(x):\n",
    "    return 0.2+25*x-2*x**2+67*x**3"
   ]
  },
  {
   "cell_type": "markdown",
   "id": "eac686be",
   "metadata": {},
   "source": [
    "def f(x):\n",
    "    return np.sin(x)"
   ]
  },
  {
   "cell_type": "markdown",
   "id": "c60d6136",
   "metadata": {},
   "source": [
    "# Simpson's 1/3 Rule\n",
    "\n",
    "# Define function to integrate\n",
    "def f(x):\n",
    "    return 1/(1 + x**2)"
   ]
  },
  {
   "cell_type": "code",
   "execution_count": 2,
   "id": "30349295",
   "metadata": {},
   "outputs": [],
   "source": [
    "def f(x):\n",
    "    return np.exp(x)"
   ]
  },
  {
   "cell_type": "markdown",
   "id": "fe6b6570",
   "metadata": {},
   "source": [
    "def f(x):\n",
    "    return x**(1/2)*np.exp(-x)"
   ]
  },
  {
   "cell_type": "code",
   "execution_count": 3,
   "id": "a177eac1",
   "metadata": {},
   "outputs": [
    {
     "name": "stdout",
     "output_type": "stream",
     "text": [
      "Enter lower limit of integration: 0.2\n",
      "Enter upper limit of integration: 22\n",
      "Enter number of sub intervals: 4\n",
      "0.2 1.2214027581601699\n",
      "5.65 284.29146582392093\n",
      "11.1 66171.16016837658\n",
      "16.55 15401877.876773492\n",
      "22.0 3584912846.131592\n",
      "Integration result by Simpson's 1/3 method is: 6624754472.995758\n"
     ]
    }
   ],
   "source": [
    "\n",
    "# Implementing Simpson's 1/3 \n",
    "def simpson13(x0,xn,n):\n",
    "    # calculating step size\n",
    "    h = (xn - x0) / n\n",
    "    \n",
    "    # Finding sum \n",
    "\n",
    "    integration = f(x0) + f(xn)\n",
    "    print(x0, f(x0))\n",
    "    \n",
    "    \n",
    "    for i in range(1,n):\n",
    "        k = x0 + i*h\n",
    "        print(k,f(k))\n",
    "\n",
    "        #print(\"function value\",f(k))\n",
    "        \n",
    "        if i%2 == 0:\n",
    "            integration = integration + 2 * f(k)\n",
    "            #print(\"integration1\", integration)\n",
    "        else:\n",
    "            integration = integration + 4 * f(k)\n",
    "            #print(\"integration2\", integration)\n",
    "    # Finding final integration value\n",
    "    integration = integration * h/3\n",
    "    print(xn, f(xn))\n",
    "    return integration\n",
    "    \n",
    "# Input section\n",
    "lower_limit = float(input(\"Enter lower limit of integration: \"))\n",
    "upper_limit = float(input(\"Enter upper limit of integration: \"))\n",
    "sub_interval = int(input(\"Enter number of sub intervals: \"))\n",
    "\n",
    "# Call trapezoidal() method and get result\n",
    "result = simpson13(lower_limit, upper_limit, sub_interval)\n",
    "print(\"Integration result by Simpson's 1/3 method is: %0.6f\" % (result) )"
   ]
  },
  {
   "cell_type": "code",
   "execution_count": 4,
   "id": "d74b338a",
   "metadata": {},
   "outputs": [
    {
     "ename": "TypeError",
     "evalue": "loop of ufunc does not support argument 0 of type Symbol which has no callable exp method",
     "output_type": "error",
     "traceback": [
      "\u001b[1;31m---------------------------------------------------------------------------\u001b[0m",
      "\u001b[1;31mAttributeError\u001b[0m                            Traceback (most recent call last)",
      "\u001b[1;31mAttributeError\u001b[0m: 'Symbol' object has no attribute 'exp'",
      "\nThe above exception was the direct cause of the following exception:\n",
      "\u001b[1;31mTypeError\u001b[0m                                 Traceback (most recent call last)",
      "\u001b[1;32m<ipython-input-4-ed8e544e1eff>\u001b[0m in \u001b[0;36m<module>\u001b[1;34m\u001b[0m\n\u001b[0;32m      8\u001b[0m \u001b[1;33m\u001b[0m\u001b[0m\n\u001b[0;32m      9\u001b[0m \u001b[0mx\u001b[0m \u001b[1;33m=\u001b[0m \u001b[0msy\u001b[0m\u001b[1;33m.\u001b[0m\u001b[0mSymbol\u001b[0m\u001b[1;33m(\u001b[0m\u001b[1;34m\"x\"\u001b[0m\u001b[1;33m)\u001b[0m\u001b[1;33m\u001b[0m\u001b[1;33m\u001b[0m\u001b[0m\n\u001b[1;32m---> 10\u001b[1;33m \u001b[0mprint\u001b[0m\u001b[1;33m(\u001b[0m\u001b[0msy\u001b[0m\u001b[1;33m.\u001b[0m\u001b[0mintegrate\u001b[0m\u001b[1;33m(\u001b[0m\u001b[0mf\u001b[0m\u001b[1;33m(\u001b[0m\u001b[0mx\u001b[0m\u001b[1;33m)\u001b[0m\u001b[1;33m,\u001b[0m \u001b[1;33m(\u001b[0m\u001b[0mx\u001b[0m\u001b[1;33m,\u001b[0m \u001b[1;36m0.2\u001b[0m\u001b[1;33m,\u001b[0m \u001b[1;36m22\u001b[0m\u001b[1;33m)\u001b[0m\u001b[1;33m)\u001b[0m\u001b[1;33m)\u001b[0m\u001b[1;33m\u001b[0m\u001b[1;33m\u001b[0m\u001b[0m\n\u001b[0m",
      "\u001b[1;32m<ipython-input-4-ed8e544e1eff>\u001b[0m in \u001b[0;36mf\u001b[1;34m(x)\u001b[0m\n\u001b[0;32m      5\u001b[0m \u001b[1;33m\u001b[0m\u001b[0m\n\u001b[0;32m      6\u001b[0m \u001b[1;32mdef\u001b[0m \u001b[0mf\u001b[0m\u001b[1;33m(\u001b[0m\u001b[0mx\u001b[0m\u001b[1;33m)\u001b[0m\u001b[1;33m:\u001b[0m\u001b[1;33m\u001b[0m\u001b[1;33m\u001b[0m\u001b[0m\n\u001b[1;32m----> 7\u001b[1;33m         \u001b[1;32mreturn\u001b[0m \u001b[0mnp\u001b[0m\u001b[1;33m.\u001b[0m\u001b[0mexp\u001b[0m\u001b[1;33m(\u001b[0m\u001b[0mx\u001b[0m\u001b[1;33m)\u001b[0m\u001b[1;33m\u001b[0m\u001b[1;33m\u001b[0m\u001b[0m\n\u001b[0m\u001b[0;32m      8\u001b[0m \u001b[1;33m\u001b[0m\u001b[0m\n\u001b[0;32m      9\u001b[0m \u001b[0mx\u001b[0m \u001b[1;33m=\u001b[0m \u001b[0msy\u001b[0m\u001b[1;33m.\u001b[0m\u001b[0mSymbol\u001b[0m\u001b[1;33m(\u001b[0m\u001b[1;34m\"x\"\u001b[0m\u001b[1;33m)\u001b[0m\u001b[1;33m\u001b[0m\u001b[1;33m\u001b[0m\u001b[0m\n",
      "\u001b[1;31mTypeError\u001b[0m: loop of ufunc does not support argument 0 of type Symbol which has no callable exp method"
     ]
    }
   ],
   "source": [
    "import matplotlib.pyplot as plt\n",
    "import numpy as np\n",
    "import sympy as sy\n",
    "\n",
    "\n",
    "def f(x):\n",
    "\treturn np.exp(x)\n",
    "\n",
    "x = sy.Symbol(\"x\")\n",
    "print(sy.integrate(f(x), (x, 0.2, 22)))"
   ]
  },
  {
   "cell_type": "code",
   "execution_count": null,
   "id": "2c564ea4",
   "metadata": {},
   "outputs": [],
   "source": []
  }
 ],
 "metadata": {
  "kernelspec": {
   "display_name": "Python 3",
   "language": "python",
   "name": "python3"
  },
  "language_info": {
   "codemirror_mode": {
    "name": "ipython",
    "version": 3
   },
   "file_extension": ".py",
   "mimetype": "text/x-python",
   "name": "python",
   "nbconvert_exporter": "python",
   "pygments_lexer": "ipython3",
   "version": "3.8.8"
  }
 },
 "nbformat": 4,
 "nbformat_minor": 5
}
