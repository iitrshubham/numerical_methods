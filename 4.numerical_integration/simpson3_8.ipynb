{
 "cells": [
  {
   "cell_type": "code",
   "execution_count": 1,
   "id": "280cf44f",
   "metadata": {},
   "outputs": [],
   "source": [
    "import numpy as np\n",
    "import matplotlib.pyplot as plt\n",
    "import sympy as sy"
   ]
  },
  {
   "cell_type": "code",
   "execution_count": 2,
   "id": "8dda0995",
   "metadata": {},
   "outputs": [],
   "source": [
    "def f(x):\n",
    "    return 0.2+25*x-2*x**2+67*x**3"
   ]
  },
  {
   "cell_type": "markdown",
   "id": "1d314493",
   "metadata": {},
   "source": [
    "def f(x):\n",
    "    return np.sin(x)"
   ]
  },
  {
   "cell_type": "markdown",
   "id": "cc3217ff",
   "metadata": {},
   "source": [
    "def f(x):\n",
    "    return x**(1/2)*np.exp(-x)"
   ]
  },
  {
   "cell_type": "markdown",
   "id": "85219949",
   "metadata": {},
   "source": [
    "def f(x):\n",
    "    return 1/(1+x**2)"
   ]
  },
  {
   "cell_type": "code",
   "execution_count": 3,
   "id": "14136dd9",
   "metadata": {},
   "outputs": [
    {
     "name": "stdout",
     "output_type": "stream",
     "text": [
      "Enter lower limit of integration: 0\n",
      "Enter upper limit of integration: 10\n",
      "Enter number of sub intervals: 10\n",
      "0.0 0.2\n",
      "10.0 67050.2\n",
      "1.0 90.2\n",
      "2.0 578.2\n",
      "3.0 1866.2\n",
      "4.0 4356.2\n",
      "5.0 8450.2\n",
      "6.0 14550.2\n",
      "7.0 23058.2\n",
      "8.0 34376.2\n",
      "9.0 48906.2\n",
      "Integration result by Simpson's 3/8 method is: 153908.700000\n"
     ]
    }
   ],
   "source": [
    "# Implementing Simpson's 3/8\n",
    "def simpson38(x0,xn,n):\n",
    "    # calculating step size\n",
    "    h = (xn - x0) / n\n",
    "    \n",
    "    # Finding sum \n",
    "    integration = f(x0) + f(xn)\n",
    "    print(x0, f(x0))\n",
    "    print(xn, f(xn))\n",
    "    \n",
    "    for i in range(1,n):\n",
    "        k = x0 + i*h\n",
    "        print(k,f(k))\n",
    "        \n",
    "        if i%3 == 0:\n",
    "            integration = integration + 2 * f(k)\n",
    "            #print(\"integration1\", integration)\n",
    "        else:\n",
    "            integration = integration + 3 * f(k)\n",
    "            #print(\"integration2\", integration)\n",
    "    \n",
    "    # Finding final integration value\n",
    "    integration = integration * 3 * h / 8\n",
    "    \n",
    "    return integration\n",
    "    \n",
    "# Input section\n",
    "lower_limit = float(input(\"Enter lower limit of integration: \"))\n",
    "upper_limit = float(input(\"Enter upper limit of integration: \"))\n",
    "sub_interval = int(input(\"Enter number of sub intervals: \"))\n",
    "\n",
    "# Call trapezoidal() method and get result\n",
    "result = simpson38(lower_limit, upper_limit, sub_interval)\n",
    "print(\"Integration result by Simpson's 3/8 method is: %0.6f\" % (result) )"
   ]
  },
  {
   "cell_type": "code",
   "execution_count": 4,
   "id": "f97ea146",
   "metadata": {},
   "outputs": [
    {
     "name": "stdout",
     "output_type": "stream",
     "text": [
      "168085.333333333\n"
     ]
    }
   ],
   "source": [
    "x = sy.Symbol(\"x\")\n",
    "print(sy.integrate(f(x), (x, 0, 10)))"
   ]
  },
  {
   "cell_type": "code",
   "execution_count": 5,
   "id": "cda0799a",
   "metadata": {},
   "outputs": [
    {
     "name": "stdout",
     "output_type": "stream",
     "text": [
      "168085.333333333\n"
     ]
    }
   ],
   "source": [
    "import matplotlib.pyplot as plt\n",
    "import numpy as np\n",
    "import sympy as sy\n",
    "\n",
    "\n",
    "def f(x):\n",
    "\treturn 0.2+25*x-2*x**2+67*x**3\n",
    "\n",
    "x = sy.Symbol(\"x\")\n",
    "print(sy.integrate(f(x), (x, 0, 10)))"
   ]
  },
  {
   "cell_type": "code",
   "execution_count": 8,
   "id": "5fd355a4",
   "metadata": {},
   "outputs": [
    {
     "name": "stdout",
     "output_type": "stream",
     "text": [
      "Enter a equation: 0.2+25*x-2*x**2+67*x**3\n"
     ]
    }
   ],
   "source": [
    "x = sy.Symbol('x')\n",
    "function = input(\"Enter a equation: \")\n",
    "a = eval(function)\n",
    "b = sy.diff(f(x))"
   ]
  },
  {
   "cell_type": "code",
   "execution_count": 9,
   "id": "222218fa",
   "metadata": {},
   "outputs": [
    {
     "data": {
      "text/latex": [
       "$\\displaystyle 201 x^{2} - 4 x + 25$"
      ],
      "text/plain": [
       "201*x**2 - 4*x + 25"
      ]
     },
     "execution_count": 9,
     "metadata": {},
     "output_type": "execute_result"
    }
   ],
   "source": [
    "b"
   ]
  },
  {
   "cell_type": "code",
   "execution_count": null,
   "id": "7a9e097f",
   "metadata": {},
   "outputs": [],
   "source": []
  }
 ],
 "metadata": {
  "kernelspec": {
   "display_name": "Python 3",
   "language": "python",
   "name": "python3"
  },
  "language_info": {
   "codemirror_mode": {
    "name": "ipython",
    "version": 3
   },
   "file_extension": ".py",
   "mimetype": "text/x-python",
   "name": "python",
   "nbconvert_exporter": "python",
   "pygments_lexer": "ipython3",
   "version": "3.8.8"
  }
 },
 "nbformat": 4,
 "nbformat_minor": 5
}
