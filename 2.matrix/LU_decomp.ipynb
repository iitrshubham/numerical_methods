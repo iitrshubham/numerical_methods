{
 "cells": [
  {
   "cell_type": "markdown",
   "metadata": {},
   "source": [
    "## LU FACTORIZATION FROM SCRATCH\n"
   ]
  },
  {
   "cell_type": "code",
   "execution_count": 1,
   "metadata": {},
   "outputs": [],
   "source": [
    "import numpy as np"
   ]
  },
  {
   "cell_type": "markdown",
   "metadata": {},
   "source": [
    "## Objective \n",
    "\n",
    "Decompose a given square matrix ${\\bf A}$ in a product of a lower triangular matrix ${\\bf L}$ and an upper triangular matrix ${\\bf U}$:\n",
    "\n",
    "$${\\bf A} = {\\bf L} {\\bf U}$$\n",
    "\n",
    "\n",
    "$$\\begin{bmatrix}a_{11} & a_{12} & a_{13}\\\\\n",
    "                 a_{21} & a_{22} & a_{23} \\\\\n",
    "                 a_{31} & a_{32} & a_{33}\n",
    "                \\end{bmatrix} = \\begin{bmatrix}l_{11} &  &  & {\\Huge 0}\\\\\n",
    "                           l_{21} & l_{22} &  & \\\\\n",
    "                          \\vdots & \\vdots & \\ddots & \\\\\n",
    "                           l_{n1} & l_{n2} & \\dots & l_{nn}\n",
    "                \\end{bmatrix} \\cdot \\begin{bmatrix} u_{11} & u_{12} & \\dots & u_{1n}\\\\\n",
    "                                                    & u_{22} & \\dots & u_{2n}\\\\\n",
    "                                                     &  & \\ddots & \\vdots\\\\\n",
    "                                                    {\\Huge 0} &  &  & u_{nn}\n",
    "                                                    \\end{bmatrix}$$"
   ]
  },
  {
   "cell_type": "code",
   "execution_count": 2,
   "metadata": {},
   "outputs": [
    {
     "data": {
      "text/plain": [
       "array([[2, 3, 1],\n",
       "       [1, 2, 3],\n",
       "       [3, 1, 2]])"
      ]
     },
     "execution_count": 2,
     "metadata": {},
     "output_type": "execute_result"
    }
   ],
   "source": [
    "A = np.array([[2,3,1],[1,2,3],[3,1,2]])\n",
    "A"
   ]
  },
  {
   "cell_type": "markdown",
   "metadata": {},
   "source": [
    "## 1. Obtain ${\\bf U}$\n",
    "\n",
    "Obtain ${\\bf U}$ from ${\\bf A}$ by applying the following row operations (Singh,2013):\n",
    "\n",
    "*  Multiplying a row by a non-zero constant.\n",
    "* Adding a multiple of one row to another\n",
    "\n",
    "(However, I noticed that when your objective is to solve a system ${\\bf A}{\\bf x}={\\bf b}$, only the second operation is essential, you can arrive to the same result by ignoring the first row operation)"
   ]
  },
  {
   "cell_type": "markdown",
   "metadata": {},
   "source": [
    "The following entries need to be zero in our matrix ${\\bf A}$:\n",
    "\n",
    "$$\\begin{bmatrix}a_{11} & a_{12} & a_{13}\\\\\n",
    "                 \\color{orange}{a_{21}} & a_{22} & a_{23} \\\\\n",
    "                 \\color{orange}{a_{31}} & \\color{orange}{a_{32}} & a_{33}\n",
    "                \\end{bmatrix}$$\n",
    "                \n",
    "We can proceed from left to right (column 1 and then column 2) and from top to bottom (row 1 and then row 2): $a_{21},a_{31},a_{32}$. That sequence can be easily made with two ```for``` loops.\n",
    "\n",
    "I observed that a possible operation to convert a given entry  below the main diagonal $a_{ij}$ to zero is: $a_{ij} - \\frac{a_{ij}}{a_{jj}}a_{jj}$. The ith row ${\\bf r}_i$, which contains that entry, is altered like this: ${\\bf r}_i^* = {\\bf r}_i - \\frac{a_{ij}}{a_{jj}}{\\bf r}_{j}$. That means that the procedure affects the matrix this way:\n",
    "\n",
    "$$\\begin{bmatrix}1 & 2 & 2\\\\\n",
    "                 3 & -3 & -2 \\\\\n",
    "                 4 & -1 & -5\n",
    "                \\end{bmatrix} \\rightarrow\n",
    "                \\begin{bmatrix}a_{11} & a_{12} & a_{13}\\\\\n",
    "                 a_{21}-\\frac{a_{21}}{a_{11}}a_{11} & a_{22}-\\frac{a_{21}}{a_{11}}a_{12} & a_{32}-\\frac{a_{21}}{a_{11}}a_{13} \\\\\n",
    "                 a_{31} & a_{32} & a_{33}\n",
    "                \\end{bmatrix} = \\begin{bmatrix}1 & 2 & 2\\\\\n",
    "                 3-\\frac{3}{1}\\cdot 1 & -3-\\frac{3}{1}\\cdot 2 & -2-\\frac{3}{1}\\cdot 2 \\\\\n",
    "                 4 & -1 & -5\n",
    "                \\end{bmatrix} = \\begin{bmatrix}1 & 2 & 2\\\\\n",
    "                 0 & -9 & -8 \\\\\n",
    "                 4 & -1 & -5\n",
    "                \\end{bmatrix}$$\n",
    "                \n",
    "The process is repeated with each entry.\n",
    "\n",
    "Note that we avoid \"losing\" the zeros already created. Once we finish with the first column (entries $a_{21}$ and $a_{31}$) and turn to the second column (entry $a_{32}$) we no longer use the first row to make the zero. That would mean going back because we would risk losing the zero from $a_{31}$. \n",
    "\n",
    "$$\\begin{bmatrix}a_{11} & a_{12} & a_{13}\\\\\n",
    "                 0 & a_{22}^* & a_{32}^* \\\\\n",
    "                 0 & a_{32} & a_{33}\n",
    "                \\end{bmatrix}$$\n",
    "\n",
    "Instead, we use now the second row, which contains a zero in $a_{21}$, so it can't affect $a_{31}$.\n",
    "\n"
   ]
  },
  {
   "cell_type": "markdown",
   "metadata": {},
   "source": [
    "## 2. Obtain ${\\bf L}$\n",
    "\n",
    "The ${\\bf L}$ matrix is obtained from the identity ${\\bf I}$ and the process is very straightforward once you have found ${\\bf U}$. You just need to replace this zero entries in ${\\bf I}$\n",
    "\n",
    "$$\\begin{bmatrix}1 & 0 & 0\\\\\n",
    "                 \\color{orange}{i_{21}} & 1 & 0 \\\\\n",
    "                 \\color{orange}{i_{31}} & \\color{orange}{i_{32}} & 1\n",
    "                \\end{bmatrix}$$\n",
    "                \n",
    "with the negative of the multipliers used to obtain ${\\bf U}$. Those multipliers are just the scalars $\\frac{a_{ij}}{a_{jj}}$. Continuing with the example from before, to convert $a_{21}$ to zero we executed the row operation ${\\bf r}_2^* = {\\bf r}_2 + (- 3)\\cdot {\\bf r}_1$, so the negative multiplier is 3 and the modified identity matrix is now\n",
    "\n",
    "$$\\begin{bmatrix}1 & 0 & 0\\\\\n",
    "                 3 & 1 & 0 \\\\\n",
    "                 i_{31} & i_{32} & 1\n",
    "                \\end{bmatrix}$$\n",
    "                \n",
    "The process is repeated with each entry. "
   ]
  },
  {
   "cell_type": "code",
   "execution_count": 3,
   "metadata": {},
   "outputs": [],
   "source": [
    "def LU_decomp(A,n):\n",
    "    startentry = 0\n",
    "    U = A.copy()\n",
    "    L = np.identity(n)\n",
    "                    \n",
    "    for col in range(n - 1): # (if A is n x n) from col 0 to col n-1\n",
    "        startentry += 1 \n",
    "        for row in range(startentry,n): # from row 1 to row n in the first col,\n",
    "            multiplier = -U[row,col]/U[col,col]  # from row 2 to row n in the second col ...\n",
    "            U[row] = U[row] + multiplier * U[col]\n",
    "            L[row,col] = -multiplier\n",
    "            \n",
    "    return L,U"
   ]
  },
  {
   "cell_type": "code",
   "execution_count": 4,
   "metadata": {},
   "outputs": [
    {
     "name": "stdout",
     "output_type": "stream",
     "text": [
      "[[ 1.   0.   0. ]\n",
      " [ 0.5  1.   0. ]\n",
      " [ 1.5 -inf  1. ]]\n",
      "[[          2           3           1]\n",
      " [          0           0           2]\n",
      " [-2147483648 -2147483648 -2147483648]]\n"
     ]
    },
    {
     "name": "stderr",
     "output_type": "stream",
     "text": [
      "<ipython-input-3-bd780ef0d2b6>:9: RuntimeWarning: divide by zero encountered in long_scalars\n",
      "  multiplier = -U[row,col]/U[col,col]  # from row 2 to row n in the second col ...\n",
      "<ipython-input-3-bd780ef0d2b6>:10: RuntimeWarning: invalid value encountered in multiply\n",
      "  U[row] = U[row] + multiplier * U[col]\n"
     ]
    }
   ],
   "source": [
    "L,U = LU_decomp(A, n = A.shape[0])\n",
    "\n",
    "print(L);print(U)"
   ]
  },
  {
   "cell_type": "code",
   "execution_count": 5,
   "metadata": {},
   "outputs": [
    {
     "data": {
      "text/plain": [
       "array([[ True,  True,  True],\n",
       "       [ True, False, False],\n",
       "       [False, False, False]])"
      ]
     },
     "execution_count": 5,
     "metadata": {},
     "output_type": "execute_result"
    }
   ],
   "source": [
    "# check if the decomposition is right: A = L * U\n",
    "\n",
    "A == np.dot(L,U)"
   ]
  },
  {
   "cell_type": "markdown",
   "metadata": {},
   "source": [
    "## 3. Solve ${\\bf A}{\\bf x}={\\bf b}$\n",
    "\n",
    "The LU factorization can serve to solve a system ${\\bf A}{\\bf x}={\\bf b}$. In order to do that we need to solve two different (easier) systems:\n",
    "\n",
    "* ${\\bf L}{\\bf y}={\\bf b}$\n",
    "* ${\\bf U}{\\bf x}={\\bf y}$"
   ]
  },
  {
   "cell_type": "code",
   "execution_count": 6,
   "metadata": {},
   "outputs": [
    {
     "data": {
      "text/plain": [
       "array([106.8, 177.2, 279.2])"
      ]
     },
     "execution_count": 6,
     "metadata": {},
     "output_type": "execute_result"
    }
   ],
   "source": [
    "# let's suppose that\n",
    "b = np.array([106.8,177.2,279.2])\n",
    "b"
   ]
  },
  {
   "cell_type": "markdown",
   "metadata": {},
   "source": [
    "### 3.1 ${\\bf L}{\\bf y}={\\bf b}$\n",
    "\n",
    "$$\\begin{bmatrix}l_{11} & 0 & 0\\\\\n",
    "                 l_{21} & l_{22} & 0 \\\\\n",
    "                 l_{31} & l_{32} & l_{33}\n",
    "                \\end{bmatrix} \\cdot \\begin{bmatrix} y_1 \\\\ y_2 \\\\ y_3 \\end{bmatrix} = \\begin{bmatrix} b_1 \\\\ b_2 \\\\ b_3 \\end{bmatrix}$$\n",
    "                \n",
    "$$\n",
    "\\begin{aligned}\n",
    "l_{11}y_1 & = b_1 \\; ; \\; y_1 = \\frac{b_1}{l_{11}}\\\\\n",
    "l_{21}y_1+l_{22}y_2 & = b_2 \\; ; \\; y_2 = \\frac{b_2 -l_{21}y_1}{l_{22}}\\\\\n",
    "l_{31}y_1+l_{32}y_2+l_{33}y_3 & = b_3 \\; ; \\; y_3 = \\frac{b_3 -(l_{31}y_1+l_{32}y_2)}{l_{33}}\n",
    "\\end{aligned}$$\n",
    "\n",
    "In our example:\n",
    "\n",
    "$$\\begin{bmatrix}1 & 0 & 0\\\\\n",
    "                 3 & 1 & 0 \\\\\n",
    "                 4 & 1 & 1\n",
    "                \\end{bmatrix} \\cdot \\begin{bmatrix} y_1 \\\\ y_2 \\\\ y_3 \\end{bmatrix} = \\begin{bmatrix} 5 \\\\ 0 \\\\ 10 \\end{bmatrix}$$\n",
    "                \n",
    "$$\n",
    "\\begin{aligned}\n",
    "y_1 & = 5 \\; ; \\; y_1 = 5\\\\\n",
    "3y_1+y_2 & = 0 \\; ; \\; y_2 =-3y_1 = -15\\\\\n",
    "4y_1+y_2+y_3 & = 10 \\; ; \\; y_3 =10-(4y_1+y_2) = -15\n",
    "\\end{aligned}$$\n",
    "\n",
    "Despite the appearance, each equation has only one unkown, the others are obtained from the previous equations. In the general case, when ${\\bf L}$ is $n \\times n$:\n",
    "\n",
    "$$y_i = \\frac{b_i-\\sum_j^n l_{ij} \\cdot y_j}{l_{ii}}$$"
   ]
  },
  {
   "cell_type": "code",
   "execution_count": 7,
   "metadata": {},
   "outputs": [
    {
     "data": {
      "text/plain": [
       "array([106.8, 123.8,   inf])"
      ]
     },
     "execution_count": 7,
     "metadata": {},
     "output_type": "execute_result"
    }
   ],
   "source": [
    "y = np.zeros(L.shape[0])\n",
    "Lcols = L.shape[1]\n",
    "\n",
    "for i in range(len(y)):\n",
    "    y[i] = (b[i] - np.sum([L[i,j]*y[j] for j in range(Lcols)]))/L[i,i]\n",
    "y"
   ]
  },
  {
   "cell_type": "markdown",
   "metadata": {},
   "source": [
    "### 3.2 ${\\bf U}{\\bf x}={\\bf y}$\n",
    "\n",
    "$$\\begin{bmatrix} u_{11} & u_{12} & u_{13}\\\\\n",
    "                  0 & u_{22} & u_{23}\\\\\n",
    "                  0 & 0 & u_{33}\\end{bmatrix}\\cdot \\begin{bmatrix} x_1 \\\\ x_2 \\\\ x_3 \\end{bmatrix} = \\begin{bmatrix} y_1 \\\\ y_2 \\\\ y_3 \\end{bmatrix}$$\n",
    "                  \n",
    "(Starting from the bottom)\n",
    "\n",
    "$$\n",
    "\\begin{aligned}\n",
    "u_{33}x_3 &= y_3 \\; ; \\; x_3 = \\frac{y_3}{u_{33}}\\\\\n",
    "u_{22}x_2+u_{23}x_3 &= y_2 \\; ; \\; x_2 = \\frac{y_2-u_{23}x_3}{u_{22}}\\\\\n",
    "u_{11}x_1+u_{12}x_2+u_{13}x_3 &= y_1 \\; ; \\; x_1 = \\frac{y_1-(u_{12}x_2+u_{13}x_3)}{u_{11}}\n",
    "\\end{aligned}\n",
    "$$\n",
    "\n",
    "In our example:\n",
    "\n",
    "$$\\begin{bmatrix}1 & 2 & 2\\\\\n",
    "                 0 & -9 & -8 \\\\\n",
    "                 0 & 0 & -5\n",
    "                \\end{bmatrix} \\cdot \\begin{bmatrix} x_1 \\\\ x_2 \\\\ x_3 \\end{bmatrix} = \\begin{bmatrix} 5 \\\\ -15 \\\\ -15 \\end{bmatrix}$$\n",
    "                \n",
    "$$\n",
    "\\begin{aligned}\n",
    "-5x_3 &= -15 \\; ; \\; x_3 = \\frac{-15}{-5}=3\\\\\n",
    "-9x_2-8x_3 &= -15 \\; ; \\; x_2 = \\frac{-15+8x_3}{-9}=-1\\\\\n",
    "x_1+2x_2+2x_3 &= 5 \\; ; \\; x_1 = 5-(2x_2+2x_3) = 1\n",
    "\\end{aligned}\n",
    "$$\n",
    "\n",
    "Again,each equation has only one unkown, the others are obtained from the previous equations. In the general case, when ${\\bf U}$ is $n \\times n$:\n",
    "\n",
    "$$x_i = \\frac{y_i-\\sum_j^n u_{ij} \\cdot x_j}{u_{ii}}$$"
   ]
  },
  {
   "cell_type": "code",
   "execution_count": 8,
   "metadata": {},
   "outputs": [
    {
     "name": "stderr",
     "output_type": "stream",
     "text": [
      "C:\\ProgramData\\Anaconda3\\lib\\site-packages\\numpy\\core\\fromnumeric.py:87: RuntimeWarning: invalid value encountered in reduce\n",
      "  return ufunc.reduce(obj, axis, dtype, out, **passkwargs)\n"
     ]
    },
    {
     "data": {
      "text/plain": [
       "array([ nan,  inf, -inf])"
      ]
     },
     "execution_count": 8,
     "metadata": {},
     "output_type": "execute_result"
    }
   ],
   "source": [
    "x = np.zeros(U.shape[0])\n",
    "Ucols = U.shape[1]\n",
    "\n",
    "for i in range(len(x)-1,-1,-1):\n",
    "    x[i] = (y[i] - np.sum([U[i,j]*x[j] for j in range(Ucols)]))/U[i,i]\n",
    "x"
   ]
  },
  {
   "cell_type": "code",
   "execution_count": 9,
   "metadata": {},
   "outputs": [],
   "source": [
    "# we can wrap everything into a function\n",
    "def solve_with_LU(L,U,b,n):\n",
    "    \n",
    "    y = np.zeros(n)\n",
    "    for i in range(len(y)):\n",
    "        y[i] = (b[i] - np.sum([L[i,j]*y[j] for j in range(n)]))/L[i,i]\n",
    "        \n",
    "    x = np.zeros(n)\n",
    "    for i in range(len(x)-1,-1,-1):\n",
    "        x[i] = (y[i] - np.sum([U[i,j]*x[j] for j in range(n)]))/U[i,i]\n",
    "        \n",
    "    return x"
   ]
  },
  {
   "cell_type": "code",
   "execution_count": 10,
   "metadata": {},
   "outputs": [
    {
     "data": {
      "text/plain": [
       "array([False, False, False])"
      ]
     },
     "execution_count": 10,
     "metadata": {},
     "output_type": "execute_result"
    }
   ],
   "source": [
    "my_solution = solve_with_LU(L,U,b, n = L.shape[0])\n",
    "solution = np.linalg.solve(A,b)\n",
    "\n",
    "my_solution == solution"
   ]
  },
  {
   "cell_type": "markdown",
   "metadata": {},
   "source": [
    "## Final function"
   ]
  },
  {
   "cell_type": "code",
   "execution_count": 11,
   "metadata": {},
   "outputs": [],
   "source": [
    "def LU(A, b = None):\n",
    "    \"\"\"performs LU decomposition and/or solves the linear system Ax=b\n",
    "    \n",
    "    Parameters\n",
    "    ----------\n",
    "    A : 2-D n by n numpy array (square matrix)\n",
    "        Square matrix to be decomposed.\n",
    "    b : 1-D numpy array\n",
    "        Optional vector.\n",
    "\n",
    "    Returns\n",
    "    -------\n",
    "    tuple.\n",
    "        Two element tuple containing the lower triangular matrix and\n",
    "        the upper triangular matrix: (L,U).\n",
    "        \n",
    "    numpy array.\n",
    "        If the only interest is to solve a given linear system Ax=b,\n",
    "        the solution vector x is returned after applying the LU decomposition.\"\"\"\n",
    "    \n",
    "    if A.shape[0] != A.shape[1]: return 'LU decomposition works with square matrices'\n",
    "    \n",
    "    n = A.shape[0]\n",
    "    decomp_mats = LU_decomp(A,n)\n",
    "    if b is None: return decomp_mats\n",
    "    else: return solve_with_LU(decomp_mats[0],decomp_mats[1],b,n)"
   ]
  },
  {
   "cell_type": "code",
   "execution_count": 12,
   "metadata": {},
   "outputs": [
    {
     "name": "stdout",
     "output_type": "stream",
     "text": [
      "[ 1. -2.  3. -4.]\n",
      "[ 1. -2.  3. -4.]\n"
     ]
    }
   ],
   "source": [
    "# some examples from Singh (2013)\n",
    "\n",
    "B = np.array([[1,2,3,4],[17,22,27,8],[77,44,47,-494],[-10,1,7,63]])\n",
    "c = np.array([-10,22,2106,-243])\n",
    "\n",
    "print(LU(B,c))\n",
    "print(np.linalg.solve(B,c))"
   ]
  },
  {
   "cell_type": "code",
   "execution_count": 13,
   "metadata": {},
   "outputs": [
    {
     "data": {
      "text/plain": [
       "'LU decomposition works with square matrices'"
      ]
     },
     "execution_count": 13,
     "metadata": {},
     "output_type": "execute_result"
    }
   ],
   "source": [
    "B_not_square = B.reshape([2,8])\n",
    "LU(B_not_square)"
   ]
  },
  {
   "cell_type": "code",
   "execution_count": 14,
   "metadata": {},
   "outputs": [
    {
     "data": {
      "text/plain": [
       "array([[ True,  True,  True],\n",
       "       [ True,  True,  True],\n",
       "       [ True,  True,  True]])"
      ]
     },
     "execution_count": 14,
     "metadata": {},
     "output_type": "execute_result"
    }
   ],
   "source": [
    "C = np.array([[2,1,3],[4,-1,0],[10,12,34]])\n",
    "d = np.array([5,-11,84])\n",
    "\n",
    "L,U = LU(C)\n",
    "C == np.dot(L,U)"
   ]
  },
  {
   "cell_type": "code",
   "execution_count": 15,
   "metadata": {},
   "outputs": [
    {
     "name": "stdout",
     "output_type": "stream",
     "text": [
      "[-0.82868227  2.02754311  0.04726415]\n",
      "[-0.82842102  2.02792099  0.04667992]\n",
      "[-0.82842102  2.02792099  0.04667992]\n"
     ]
    },
    {
     "name": "stderr",
     "output_type": "stream",
     "text": [
      "<ipython-input-15-1e53f450a38e>:7: FutureWarning: `rcond` parameter will change to the default of machine precision times ``max(M, N)`` where M and N are the input matrix dimensions.\n",
      "To use the future default and silence this warning we advise to pass `rcond=None`, to keep using the old, explicitly pass `rcond=-1`.\n",
      "  print(np.linalg.lstsq(D,e)[0]) # least squares solution\n"
     ]
    }
   ],
   "source": [
    "np.random.seed(666)\n",
    "D = np.random.randint(0,100,9).reshape([3,3])\n",
    "e = np.random.randint(0,100,3)\n",
    "\n",
    "print(LU(D,e))\n",
    "print(np.linalg.solve(D,e))\n",
    "print(np.linalg.lstsq(D,e)[0]) # least squares solution"
   ]
  },
  {
   "cell_type": "markdown",
   "metadata": {},
   "source": [
    "When I create random matrices and vectors, the results are not exactly the same, but continue to be pretty similar\n"
   ]
  },
  {
   "cell_type": "markdown",
   "metadata": {},
   "source": [
    "## References\n",
    "\n",
    "* Singh, K. (2013). LU Factorization. In K. Singh, _Linear algebra: step by step_ (pp.472-481). Oxford University Press."
   ]
  }
 ],
 "metadata": {
  "kernelspec": {
   "display_name": "Python 3",
   "language": "python",
   "name": "python3"
  },
  "language_info": {
   "codemirror_mode": {
    "name": "ipython",
    "version": 3
   },
   "file_extension": ".py",
   "mimetype": "text/x-python",
   "name": "python",
   "nbconvert_exporter": "python",
   "pygments_lexer": "ipython3",
   "version": "3.8.8"
  }
 },
 "nbformat": 4,
 "nbformat_minor": 4
}
