{
 "cells": [
  {
   "cell_type": "code",
   "execution_count": 4,
   "id": "f02da4ef",
   "metadata": {},
   "outputs": [],
   "source": [
    "\n",
    "A = [[-1, 4, 1], [5/3, 2/3, 2/3], [2, 1, 4]] #Change this, to fit your needs\n",
    "b = [8, 1, 11]"
   ]
  },
  {
   "cell_type": "code",
   "execution_count": 5,
   "id": "f7dba7ad",
   "metadata": {},
   "outputs": [],
   "source": [
    "def linearsolver(A, b):\n",
    "    n = len(A)\n",
    "    M = A\n",
    "\n",
    "    i = 0\n",
    "    for x in M:\n",
    "        x.append(b[i])\n",
    "        i += 1\n",
    "\n",
    "    for k in range(n):\n",
    "        print ('Iteration ', k, ':')\n",
    "        for i in range(k, n):\n",
    "            if abs(M[i][k]) > abs(M[k][k]):\n",
    "                (M[k], M[i]) = (M[i], M[k])\n",
    "            else:\n",
    "                pass\n",
    "\n",
    "    # Show the matrix after swapping rows\n",
    "        for row in M:\n",
    "            print(row)\n",
    "        print('')\n",
    "\n",
    "        for j in range(k + 1, n):\n",
    "            q = float(M[j][k]) / M[k][k]\n",
    "            print ('Row ', j + 1, '- (', q, ') * Row', 1 + k)\n",
    "            for m in range(k, n + 1):\n",
    "                M[j][m] -= q * M[k][m]\n",
    "\n",
    "    # Show matrix after multiplying rows\n",
    "        for row in M:\n",
    "            print(row)\n",
    "        print('')\n",
    "\n",
    "    x = [0 for i in range(n)]\n",
    "\n",
    "    x[n - 1] = float(M[n - 1][n]) / M[n - 1][n - 1]\n",
    "    for i in range(n - 1, -1, -1):\n",
    "        z = 0\n",
    "        for j in range(i + 1, n):\n",
    "            z = z + float(M[i][j]) * x[j]\n",
    "        x[i] = float(M[i][n] - z) / M[i][i]\n",
    "    print(x)"
   ]
  },
  {
   "cell_type": "code",
   "execution_count": 6,
   "id": "05d41816",
   "metadata": {},
   "outputs": [
    {
     "name": "stdout",
     "output_type": "stream",
     "text": [
      "Iteration  0 :\n",
      "[2, 1, 4, 11]\n",
      "[-1, 4, 1, 8]\n",
      "[1.6666666666666667, 0.6666666666666666, 0.6666666666666666, 1]\n",
      "\n",
      "Row  2 - ( -0.5 ) * Row 1\n",
      "Row  3 - ( 0.8333333333333334 ) * Row 1\n",
      "[2, 1, 4, 11]\n",
      "[0.0, 4.5, 3.0, 13.5]\n",
      "[0.0, -0.16666666666666674, -2.666666666666667, -8.166666666666668]\n",
      "\n",
      "Iteration  1 :\n",
      "[2, 1, 4, 11]\n",
      "[0.0, 4.5, 3.0, 13.5]\n",
      "[0.0, -0.16666666666666674, -2.666666666666667, -8.166666666666668]\n",
      "\n",
      "Row  3 - ( -0.037037037037037056 ) * Row 2\n",
      "[2, 1, 4, 11]\n",
      "[0.0, 4.5, 3.0, 13.5]\n",
      "[0.0, 0.0, -2.555555555555556, -7.666666666666668]\n",
      "\n",
      "Iteration  2 :\n",
      "[2, 1, 4, 11]\n",
      "[0.0, 4.5, 3.0, 13.5]\n",
      "[0.0, 0.0, -2.555555555555556, -7.666666666666668]\n",
      "\n",
      "[2, 1, 4, 11]\n",
      "[0.0, 4.5, 3.0, 13.5]\n",
      "[0.0, 0.0, -2.555555555555556, -7.666666666666668]\n",
      "\n",
      "[-1.0, 1.0, 3.0]\n"
     ]
    }
   ],
   "source": [
    "\n",
    "linearsolver(A,b)"
   ]
  },
  {
   "cell_type": "code",
   "execution_count": null,
   "id": "44e03ef9",
   "metadata": {},
   "outputs": [],
   "source": []
  }
 ],
 "metadata": {
  "kernelspec": {
   "display_name": "Python 3",
   "language": "python",
   "name": "python3"
  },
  "language_info": {
   "codemirror_mode": {
    "name": "ipython",
    "version": 3
   },
   "file_extension": ".py",
   "mimetype": "text/x-python",
   "name": "python",
   "nbconvert_exporter": "python",
   "pygments_lexer": "ipython3",
   "version": "3.8.8"
  }
 },
 "nbformat": 4,
 "nbformat_minor": 5
}
