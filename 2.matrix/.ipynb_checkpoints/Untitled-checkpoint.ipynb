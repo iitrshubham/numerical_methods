{
 "cells": [
  {
   "cell_type": "code",
   "execution_count": 1,
   "id": "57bcebb6",
   "metadata": {},
   "outputs": [],
   "source": [
    "A = [[-1, 4, 1], [5/3, 2/3, 2/3], [2, 1, 4]] #Change this, to fit your needs\n",
    "b = [8, 1, 11]"
   ]
  },
  {
   "cell_type": "code",
   "execution_count": 2,
   "id": "4ec0961e",
   "metadata": {},
   "outputs": [],
   "source": [
    "from fractions import Fraction"
   ]
  },
  {
   "cell_type": "code",
   "execution_count": 5,
   "id": "6b08c404",
   "metadata": {},
   "outputs": [
    {
     "ename": "SyntaxError",
     "evalue": "invalid syntax (<ipython-input-5-ba8df43718f6>, line 25)",
     "output_type": "error",
     "traceback": [
      "\u001b[1;36m  File \u001b[1;32m\"<ipython-input-5-ba8df43718f6>\"\u001b[1;36m, line \u001b[1;32m25\u001b[0m\n\u001b[1;33m    print ('Row ',=,'Row ', j + 1, '- (', Fraction(q), ') * Row', 1 + k)\u001b[0m\n\u001b[1;37m                  ^\u001b[0m\n\u001b[1;31mSyntaxError\u001b[0m\u001b[1;31m:\u001b[0m invalid syntax\n"
     ]
    }
   ],
   "source": [
    "def linearsolver(A, b):\n",
    "    n = len(A)\n",
    "    M = A\n",
    "\n",
    "    i = 0\n",
    "    for x in M:\n",
    "        x.append(b[i])\n",
    "        i += 1\n",
    "\n",
    "    for k in range(n):\n",
    "        print ('Iteration ', k, ':')\n",
    "        for i in range(k, n):\n",
    "            if abs(M[i][k]) > abs(M[k][k]):\n",
    "                (M[k], M[i]) = (M[i], M[k])\n",
    "            else:\n",
    "                pass\n",
    "\n",
    "    # Show the matrix after swapping rows\n",
    "        for row in M:\n",
    "            print(row)\n",
    "        print('')\n",
    "\n",
    "        for j in range(k + 1, n):\n",
    "            q = float(M[j][k]) / M[k][k]\n",
    "            print ('Row ',=,'Row ', j + 1, '- (', Fraction(q), ') * Row', 1 + k)\n",
    "            for m in range(k, n + 1):\n",
    "                M[j][m] -= q * M[k][m]\n",
    "\n",
    "    # Show matrix after multiplying rows\n",
    "        for row in M:\n",
    "            print(row)\n",
    "        print('')\n",
    "\n",
    "    x = [0 for i in range(n)]\n",
    "\n",
    "    x[n - 1] = float(M[n - 1][n]) / M[n - 1][n - 1]\n",
    "    for i in range(n - 1, -1, -1):\n",
    "        z = 0\n",
    "        for j in range(i + 1, n):\n",
    "            z = z + float(M[i][j]) * x[j]\n",
    "        x[i] = float(M[i][n] - z) / M[i][i]\n",
    "    print(x)"
   ]
  },
  {
   "cell_type": "code",
   "execution_count": 6,
   "id": "e9a2f099",
   "metadata": {},
   "outputs": [
    {
     "name": "stdout",
     "output_type": "stream",
     "text": [
      "Iteration  0 :\n",
      "[2, 1, 4, 11, 8]\n",
      "[0.0, 4.5, 3.0, 13.5, 1]\n",
      "[0.0, 0.0, -2.555555555555556, -7.666666666666668, 11]\n",
      "\n",
      "Row  2 - ( 0 ) * Row 1\n",
      "Row  3 - ( 0 ) * Row 1\n",
      "[2, 1, 4, 11, 8]\n",
      "[0.0, 4.5, 3.0, 13.5, 1]\n",
      "[0.0, 0.0, -2.555555555555556, -7.666666666666668, 11]\n",
      "\n",
      "Iteration  1 :\n",
      "[2, 1, 4, 11, 8]\n",
      "[0.0, 4.5, 3.0, 13.5, 1]\n",
      "[0.0, 0.0, -2.555555555555556, -7.666666666666668, 11]\n",
      "\n",
      "Row  3 - ( 0 ) * Row 2\n",
      "[2, 1, 4, 11, 8]\n",
      "[0.0, 4.5, 3.0, 13.5, 1]\n",
      "[0.0, 0.0, -2.555555555555556, -7.666666666666668, 11]\n",
      "\n",
      "Iteration  2 :\n",
      "[2, 1, 4, 11, 8]\n",
      "[0.0, 4.5, 3.0, 13.5, 1]\n",
      "[0.0, 0.0, -2.555555555555556, -7.666666666666668, 11]\n",
      "\n",
      "[2, 1, 4, 11, 8]\n",
      "[0.0, 4.5, 3.0, 13.5, 1]\n",
      "[0.0, 0.0, -2.555555555555556, -7.666666666666668, 11]\n",
      "\n",
      "[-1.0, 1.0, 3.0]\n"
     ]
    }
   ],
   "source": [
    "linearsolver(A,b)"
   ]
  },
  {
   "cell_type": "code",
   "execution_count": null,
   "id": "e2f7807d",
   "metadata": {},
   "outputs": [],
   "source": []
  }
 ],
 "metadata": {
  "kernelspec": {
   "display_name": "Python 3",
   "language": "python",
   "name": "python3"
  },
  "language_info": {
   "codemirror_mode": {
    "name": "ipython",
    "version": 3
   },
   "file_extension": ".py",
   "mimetype": "text/x-python",
   "name": "python",
   "nbconvert_exporter": "python",
   "pygments_lexer": "ipython3",
   "version": "3.8.8"
  }
 },
 "nbformat": 4,
 "nbformat_minor": 5
}
