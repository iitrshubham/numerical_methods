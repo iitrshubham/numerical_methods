{
 "cells": [
  {
   "cell_type": "code",
   "execution_count": 1,
   "id": "c42122eb",
   "metadata": {},
   "outputs": [],
   "source": [
    "import scipy\n",
    "import scipy.linalg\n",
    "import numpy as np\n",
    "\n",
    "A =np.array([[9,6,3],[6,13,-5],[-3,-5,18]])\n",
    "B=np.array([-15,7,-12])\n",
    "L = scipy.linalg.cholesky(A, lower=True)\n",
    "U = scipy.linalg.cholesky(A, lower=False)"
   ]
  },
  {
   "cell_type": "code",
   "execution_count": 2,
   "id": "ad093b48",
   "metadata": {},
   "outputs": [
    {
     "data": {
      "text/plain": [
       "array([[ 3.,  0.,  0.],\n",
       "       [ 2.,  3.,  0.],\n",
       "       [-1., -1.,  4.]])"
      ]
     },
     "execution_count": 2,
     "metadata": {},
     "output_type": "execute_result"
    }
   ],
   "source": [
    "L"
   ]
  },
  {
   "cell_type": "code",
   "execution_count": 3,
   "id": "91389295",
   "metadata": {},
   "outputs": [
    {
     "data": {
      "text/plain": [
       "array([[ 3.        ,  2.        ,  1.        ],\n",
       "       [ 0.        ,  3.        , -2.33333333],\n",
       "       [ 0.        ,  0.        ,  3.39934634]])"
      ]
     },
     "execution_count": 3,
     "metadata": {},
     "output_type": "execute_result"
    }
   ],
   "source": [
    "U"
   ]
  },
  {
   "cell_type": "code",
   "execution_count": null,
   "id": "61d14b73",
   "metadata": {},
   "outputs": [],
   "source": []
  }
 ],
 "metadata": {
  "kernelspec": {
   "display_name": "Python 3",
   "language": "python",
   "name": "python3"
  },
  "language_info": {
   "codemirror_mode": {
    "name": "ipython",
    "version": 3
   },
   "file_extension": ".py",
   "mimetype": "text/x-python",
   "name": "python",
   "nbconvert_exporter": "python",
   "pygments_lexer": "ipython3",
   "version": "3.8.8"
  }
 },
 "nbformat": 4,
 "nbformat_minor": 5
}
