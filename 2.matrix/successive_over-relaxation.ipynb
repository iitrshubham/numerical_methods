{
 "cells": [
  {
   "cell_type": "code",
   "execution_count": 1,
   "id": "f7f13a38",
   "metadata": {},
   "outputs": [
    {
     "name": "stdout",
     "output_type": "stream",
     "text": [
      "Enter tolerable error: 0.000001\n",
      "Enter relaxation factor: 1.25\n",
      "\n",
      "Count\tx\ty\tz\n",
      "\n",
      "1\t-0.4167\t2.7431\t-1.6001\n",
      "\n",
      "2\t1.4972\t2.1880\t-2.2288\n",
      "\n",
      "3\t1.0494\t1.8782\t-2.0141\n",
      "\n",
      "4\t0.9428\t2.0007\t-1.9723\n",
      "\n",
      "5\t1.0031\t2.0126\t-2.0029\n",
      "\n",
      "6\t1.0057\t1.9980\t-2.0025\n",
      "\n",
      "7\t0.9988\t1.9990\t-1.9993\n",
      "\n",
      "8\t0.9996\t2.0004\t-1.9998\n",
      "\n",
      "9\t1.0002\t2.0001\t-2.0001\n",
      "\n",
      "10\t1.0000\t2.0000\t-2.0000\n",
      "\n",
      "11\t1.0000\t2.0000\t-2.0000\n",
      "\n",
      "12\t1.0000\t2.0000\t-2.0000\n",
      "\n",
      "13\t1.0000\t2.0000\t-2.0000\n",
      "\n",
      "\n",
      "Solution: x = 1.000, y = 2.000 and z = -2.000\n",
      "\n"
     ]
    }
   ],
   "source": [
    "# successive over-relaxation (SOR)\n",
    "\n",
    "# Defining equations to be solved\n",
    "# in diagonally dominant form\n",
    "f1 = lambda x,y,z: (-1+y-z)/3\n",
    "f2 = lambda x,y,z: (7+x+z)/3\n",
    "f3 = lambda x,y,z: (-7-x+y)/3\n",
    "\n",
    "# Initial setup\n",
    "x0 = 0\n",
    "y0 = 0\n",
    "z0 = 0\n",
    "count = 1\n",
    "\n",
    "# Reading tolerable error\n",
    "e = float(input('Enter tolerable error: '))\n",
    "\n",
    "# Reading relaxation factor\n",
    "w = float(input(\"Enter relaxation factor: \"))\n",
    "\n",
    "# Implementation of successive over-relaxation\n",
    "print('\\nCount\\tx\\ty\\tz\\n')\n",
    "\n",
    "condition = True\n",
    "\n",
    "while condition:\n",
    "    x1 = (1-w) * x0 + w * f1(x0,y0,z0)\n",
    "    y1 = (1-w) * y0 + w * f2(x1,y0,z0)\n",
    "    z1 = (1-w) * z0 + w * f3(x1,y1,z0)\n",
    "    print('%d\\t%0.4f\\t%0.4f\\t%0.4f\\n' %(count, x1,y1,z1))\n",
    "    e1 = abs(x0-x1);\n",
    "    e2 = abs(y0-y1);\n",
    "    e3 = abs(z0-z1);\n",
    "    \n",
    "    count += 1\n",
    "    x0 = x1\n",
    "    y0 = y1\n",
    "    z0 = z1\n",
    "    \n",
    "    condition = e1>e and e2>e and e3>e\n",
    "\n",
    "print('\\nSolution: x = %0.3f, y = %0.3f and z = %0.3f\\n'% (x1,y1,z1))"
   ]
  },
  {
   "cell_type": "code",
   "execution_count": null,
   "id": "7215cbdf",
   "metadata": {},
   "outputs": [],
   "source": []
  }
 ],
 "metadata": {
  "kernelspec": {
   "display_name": "Python 3",
   "language": "python",
   "name": "python3"
  },
  "language_info": {
   "codemirror_mode": {
    "name": "ipython",
    "version": 3
   },
   "file_extension": ".py",
   "mimetype": "text/x-python",
   "name": "python",
   "nbconvert_exporter": "python",
   "pygments_lexer": "ipython3",
   "version": "3.8.8"
  }
 },
 "nbformat": 4,
 "nbformat_minor": 5
}
