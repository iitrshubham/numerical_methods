{
 "cells": [
  {
   "cell_type": "code",
   "execution_count": 1,
   "metadata": {},
   "outputs": [
    {
     "name": "stdout",
     "output_type": "stream",
     "text": [
      "Lower Triangular\t\tUpper Triangular\n",
      "1\t0\t0\t\t2\t3\t1\t\n",
      "0\t1\t0\t\t0\t2\t3\t\n",
      "1\t-1\t1\t\t0\t0\t4\t\n"
     ]
    }
   ],
   "source": [
    "# Python3 Program to decompose  \n",
    "# a matrix into lower and # upper traingular matrix\n",
    "MAX = 100\n",
    "def luDecomposition(mat, n):\n",
    "\n",
    "\tlower = [[0 for x in range(n)]\n",
    "\t\t\tfor y in range(n)]\n",
    "\tupper = [[0 for x in range(n)]\n",
    "\t\t\tfor y in range(n)]\n",
    "    # Decomposing matrix into Upper and Lower triangular matrix\n",
    "\tfor i in range(n):\n",
    "        # Upper Triangular\n",
    "\t\tfor k in range(i, n):\n",
    "            # Summation of L(i, j) * U(j, k)\n",
    "\t\t\tsum = 0\n",
    "\t\t\tfor j in range(i):\n",
    "\t\t\t\tsum += (lower[i][j] * upper[j][k])\n",
    "\n",
    "\t\t\t# Evaluating U(i, k)\n",
    "\t\t\tupper[i][k] = mat[i][k] - sum\n",
    "\n",
    "\t\t# Lower Triangular\n",
    "\t\tfor k in range(i, n):\n",
    "\t\t\tif (i == k):\n",
    "\t\t\t\tlower[i][i] = 1 # Diagonal as 1\n",
    "\t\t\telse:\n",
    "                # Summation of L(k, j) * U(j, i)\n",
    "\t\t\t\tsum = 0\n",
    "\t\t\t\tfor j in range(i):\n",
    "\t\t\t\t\tsum += (lower[k][j] * upper[j][i])\n",
    "\n",
    "\t\t\t\t# Evaluating L(k, i)\n",
    "\t\t\t\tlower[k][i] = int((mat[k][i] - sum) /\n",
    "\t\t\t\t\t\t\t\tupper[i][i])\n",
    "\n",
    "\t# setw is for displaying nicely\n",
    "\tprint(\"Lower Triangular\\t\\tUpper Triangular\")\n",
    "    # Displaying the result :\n",
    "\tfor i in range(n):\n",
    "        # Lower\n",
    "\t\tfor j in range(n):\n",
    "\t\t\tprint(lower[i][j], end=\"\\t\")\n",
    "\t\tprint(\"\", end=\"\\t\")\n",
    "        # Upper\n",
    "\t\tfor j in range(n):\n",
    "\t\t\tprint(upper[i][j], end=\"\\t\")\n",
    "\t\tprint(\"\")\n",
    "# Driver code\n",
    "mat = [[2,3,1],[1,2,3],[3,1,2]]\n",
    "luDecomposition(mat, 3)"
   ]
  },
  {
   "cell_type": "code",
   "execution_count": null,
   "metadata": {},
   "outputs": [],
   "source": []
  },
  {
   "cell_type": "code",
   "execution_count": null,
   "metadata": {},
   "outputs": [],
   "source": []
  }
 ],
 "metadata": {
  "kernelspec": {
   "display_name": "Python 3",
   "language": "python",
   "name": "python3"
  },
  "language_info": {
   "codemirror_mode": {
    "name": "ipython",
    "version": 3
   },
   "file_extension": ".py",
   "mimetype": "text/x-python",
   "name": "python",
   "nbconvert_exporter": "python",
   "pygments_lexer": "ipython3",
   "version": "3.8.8"
  }
 },
 "nbformat": 4,
 "nbformat_minor": 4
}
