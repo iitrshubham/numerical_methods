{
 "cells": [
  {
   "cell_type": "code",
   "execution_count": 1,
   "id": "e327547c",
   "metadata": {},
   "outputs": [],
   "source": [
    "def f(x,y):\n",
    "    return x**2-y"
   ]
  },
  {
   "cell_type": "code",
   "execution_count": 12,
   "id": "4eb3d0fb",
   "metadata": {},
   "outputs": [],
   "source": [
    "# RK-4 method\n",
    "def rk2(x0,y0,xn,n):\n",
    "    \n",
    "    # Calculating step size\n",
    "    h = (xn-x0)/n\n",
    "    \n",
    "    print('\\n--------SOLUTION--------')\n",
    "    #print('-------------------------')    \n",
    "    #print('x0\\ty0\\tyn')\n",
    "    print('-------------------------')\n",
    "    for i in range(n):\n",
    "        k1 = h * (f(x0, y0))\n",
    "        print('k1 = ',k1)\n",
    "        k2 = h * (f((x0+h), (y0+k1)))\n",
    "        print('k2 = ',k2)\n",
    "        k = (k1+k2)/2\n",
    "        print('k = ',k)\n",
    "        yn = y0 + k\n",
    "        print('-------------------------')    \n",
    "        print('x0\\ty0\\tyn')\n",
    "        print('-------------------------')\n",
    "        print('%.4f\\t%.4f\\t%.4f'% (x0,y0,yn) )\n",
    "        print('-------------------------')\n",
    "        y0 = yn\n",
    "        x0 = x0+h\n",
    "        print('\\nAt x=%.4f, y=%.4f' %(x0+h-h,yn))\n"
   ]
  },
  {
   "cell_type": "code",
   "execution_count": 13,
   "id": "5faec0dc",
   "metadata": {},
   "outputs": [
    {
     "name": "stdout",
     "output_type": "stream",
     "text": [
      "Enter initial conditions:\n",
      "x0 = 0\n",
      "y0 = 1\n",
      "Enter calculation point: \n",
      "xn = 0.2\n",
      "Enter number of steps:\n",
      "Number of steps = 2\n",
      "\n",
      "--------SOLUTION--------\n",
      "-------------------------\n",
      "k1 =  -0.1\n",
      "k2 =  -0.08900000000000001\n",
      "k =  -0.0945\n",
      "-------------------------\n",
      "x0\ty0\tyn\n",
      "-------------------------\n",
      "0.0000\t1.0000\t0.9055\n",
      "-------------------------\n",
      "\n",
      "At x=0.1000, y=0.9055\n",
      "-------------------------\n",
      "-------------------------\n",
      "k1 =  -0.08955\n",
      "k2 =  -0.077595\n",
      "k =  -0.0835725\n",
      "-------------------------\n",
      "x0\ty0\tyn\n",
      "-------------------------\n",
      "0.1000\t0.9055\t0.8219\n",
      "-------------------------\n",
      "\n",
      "At x=0.2000, y=0.8219\n",
      "-------------------------\n",
      "-------------------------\n"
     ]
    }
   ],
   "source": [
    "# Inputs\n",
    "print('Enter initial conditions:')\n",
    "x0 = float(input('x0 = '))\n",
    "y0 = float(input('y0 = '))\n",
    "\n",
    "print('Enter calculation point: ')\n",
    "xn = float(input('xn = '))\n",
    "\n",
    "print('Enter number of steps:')\n",
    "step = int(input('Number of steps = '))\n",
    "\n",
    "# RK2 method call\n",
    "rk2(x0,y0,xn,step)"
   ]
  },
  {
   "cell_type": "code",
   "execution_count": null,
   "id": "6dec0ffe",
   "metadata": {},
   "outputs": [],
   "source": []
  }
 ],
 "metadata": {
  "kernelspec": {
   "display_name": "Python 3",
   "language": "python",
   "name": "python3"
  },
  "language_info": {
   "codemirror_mode": {
    "name": "ipython",
    "version": 3
   },
   "file_extension": ".py",
   "mimetype": "text/x-python",
   "name": "python",
   "nbconvert_exporter": "python",
   "pygments_lexer": "ipython3",
   "version": "3.8.8"
  }
 },
 "nbformat": 4,
 "nbformat_minor": 5
}
