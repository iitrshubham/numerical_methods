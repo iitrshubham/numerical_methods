{
 "cells": [
  {
   "cell_type": "code",
   "execution_count": 1,
   "id": "dd35e3aa",
   "metadata": {},
   "outputs": [],
   "source": [
    "from math import *"
   ]
  },
  {
   "cell_type": "code",
   "execution_count": 2,
   "id": "06351189",
   "metadata": {},
   "outputs": [
    {
     "name": "stdout",
     "output_type": "stream",
     "text": [
      "Enter initial conditions:\n",
      "x0 = 0\n",
      "y0 = 1\n",
      "Enter calculation point: \n",
      "xn = 1\n",
      "Enter number of steps:\n",
      "Number of steps = 10\n",
      "\n",
      "-----------SOLUTION-----------\n",
      "------------------------------\n",
      "x0\ty0\tslope\tyn\n",
      "------------------------------\n",
      "0.0000\t1.0000\t1.0000\t1.1000\n",
      "------------------------------\n",
      "0.1000\t1.1000\t1.2200\t1.2220\n",
      "------------------------------\n",
      "0.2000\t1.2220\t1.5333\t1.3753\n",
      "------------------------------\n",
      "0.3000\t1.3753\t1.9815\t1.5735\n",
      "------------------------------\n",
      "0.4000\t1.5735\t2.6358\t1.8371\n",
      "------------------------------\n",
      "0.5000\t1.8371\t3.6248\t2.1995\n",
      "------------------------------\n",
      "0.6000\t2.1995\t5.1980\t2.7193\n",
      "------------------------------\n",
      "0.7000\t2.7193\t7.8848\t3.5078\n",
      "------------------------------\n",
      "0.8000\t3.5078\t12.9449\t4.8023\n",
      "------------------------------\n",
      "0.9000\t4.8023\t23.8723\t7.1895\n",
      "------------------------------\n",
      "\n",
      "At x=1.0000, y=7.1895\n"
     ]
    }
   ],
   "source": [
    "# Euler method python program\n",
    "\n",
    "# function to be solved\n",
    "def f(x,y):\n",
    "    return x**2+y**2\n",
    "\n",
    "# or\n",
    "#f = lambda x: x\n",
    "\n",
    "# Euler method\n",
    "def euler(x0,y0,xn,n):\n",
    "    \n",
    "    # Calculating step size\n",
    "    h = (xn-x0)/n\n",
    "    \n",
    "    print('\\n-----------SOLUTION-----------')\n",
    "    print('------------------------------')    \n",
    "    print('x0\\ty0\\tslope\\tyn')\n",
    "    print('------------------------------')\n",
    "    for i in range(n):\n",
    "        slope = f(x0, y0)\n",
    "        yn = y0 + h * slope\n",
    "        print('%.4f\\t%.4f\\t%0.4f\\t%.4f'% (x0,y0,slope,yn) )\n",
    "        print('------------------------------')\n",
    "        y0 = yn\n",
    "        x0 = x0+h\n",
    "    \n",
    "    print('\\nAt x=%.4f, y=%.4f' %(xn,yn))\n",
    "\n",
    "# Inputs\n",
    "print('Enter initial conditions:')\n",
    "x0 = float(input('x0 = '))\n",
    "y0 = float(input('y0 = '))\n",
    "\n",
    "print('Enter calculation point: ')\n",
    "xn = float(input('xn = '))\n",
    "\n",
    "print('Enter number of steps:')\n",
    "step = int(input('Number of steps = '))\n",
    "\n",
    "# Euler method call\n",
    "euler(x0,y0,xn,step)"
   ]
  },
  {
   "cell_type": "markdown",
   "id": "a80f6af5",
   "metadata": {},
   "source": [
    "### Euler Method"
   ]
  },
  {
   "cell_type": "code",
   "execution_count": 3,
   "id": "f578245c",
   "metadata": {},
   "outputs": [],
   "source": [
    "x0 = 0.3\n",
    "xn = 0.9\n",
    "h = 0.3\n",
    "N = (xn - x0)/h\n",
    "y = [0 for i in range(int(N+1))]\n",
    "y[0] = 5"
   ]
  },
  {
   "cell_type": "markdown",
   "id": "20cc4def",
   "metadata": {},
   "source": [
    "def funcGe():\n",
    "    return (-2*y[i]**3+12*y[i]**2-20*y[i]+8.5)"
   ]
  },
  {
   "cell_type": "code",
   "execution_count": 4,
   "id": "358c7df4",
   "metadata": {},
   "outputs": [],
   "source": [
    "def funcGe():\n",
    "    return (sin(x)-5*y**2)/3"
   ]
  },
  {
   "cell_type": "code",
   "execution_count": 5,
   "id": "45052cde",
   "metadata": {},
   "outputs": [
    {
     "ename": "NameError",
     "evalue": "name 'x' is not defined",
     "output_type": "error",
     "traceback": [
      "\u001b[1;31m---------------------------------------------------------------------------\u001b[0m",
      "\u001b[1;31mNameError\u001b[0m                                 Traceback (most recent call last)",
      "\u001b[1;32m<ipython-input-5-bfe19296b18e>\u001b[0m in \u001b[0;36m<module>\u001b[1;34m\u001b[0m\n\u001b[0;32m      1\u001b[0m \u001b[1;32mfor\u001b[0m \u001b[0mi\u001b[0m \u001b[1;32min\u001b[0m \u001b[0mrange\u001b[0m\u001b[1;33m(\u001b[0m\u001b[0mint\u001b[0m\u001b[1;33m(\u001b[0m\u001b[0mN\u001b[0m\u001b[1;33m)\u001b[0m\u001b[1;33m)\u001b[0m\u001b[1;33m:\u001b[0m\u001b[1;33m\u001b[0m\u001b[1;33m\u001b[0m\u001b[0m\n\u001b[1;32m----> 2\u001b[1;33m     \u001b[0mfunc\u001b[0m \u001b[1;33m=\u001b[0m \u001b[0mfuncGe\u001b[0m\u001b[1;33m(\u001b[0m\u001b[1;33m)\u001b[0m\u001b[1;33m\u001b[0m\u001b[1;33m\u001b[0m\u001b[0m\n\u001b[0m\u001b[0;32m      3\u001b[0m \u001b[1;33m\u001b[0m\u001b[0m\n\u001b[0;32m      4\u001b[0m     \u001b[0my\u001b[0m\u001b[1;33m[\u001b[0m\u001b[0mi\u001b[0m\u001b[1;33m+\u001b[0m\u001b[1;36m1\u001b[0m\u001b[1;33m]\u001b[0m \u001b[1;33m=\u001b[0m \u001b[0my\u001b[0m\u001b[1;33m[\u001b[0m\u001b[0mi\u001b[0m\u001b[1;33m]\u001b[0m \u001b[1;33m+\u001b[0m \u001b[0mh\u001b[0m\u001b[1;33m*\u001b[0m\u001b[0mfunc\u001b[0m\u001b[1;33m\u001b[0m\u001b[1;33m\u001b[0m\u001b[0m\n\u001b[0;32m      5\u001b[0m     \u001b[0mx0\u001b[0m \u001b[1;33m+=\u001b[0m\u001b[0mh\u001b[0m\u001b[1;33m\u001b[0m\u001b[1;33m\u001b[0m\u001b[0m\n",
      "\u001b[1;32m<ipython-input-4-89bf02a6a4db>\u001b[0m in \u001b[0;36mfuncGe\u001b[1;34m()\u001b[0m\n\u001b[0;32m      1\u001b[0m \u001b[1;32mdef\u001b[0m \u001b[0mfuncGe\u001b[0m\u001b[1;33m(\u001b[0m\u001b[1;33m)\u001b[0m\u001b[1;33m:\u001b[0m\u001b[1;33m\u001b[0m\u001b[1;33m\u001b[0m\u001b[0m\n\u001b[1;32m----> 2\u001b[1;33m     \u001b[1;32mreturn\u001b[0m \u001b[1;33m(\u001b[0m\u001b[0msin\u001b[0m\u001b[1;33m(\u001b[0m\u001b[0mx\u001b[0m\u001b[1;33m)\u001b[0m\u001b[1;33m-\u001b[0m\u001b[1;36m5\u001b[0m\u001b[1;33m*\u001b[0m\u001b[0my\u001b[0m\u001b[1;33m**\u001b[0m\u001b[1;36m2\u001b[0m\u001b[1;33m)\u001b[0m\u001b[1;33m/\u001b[0m\u001b[1;36m3\u001b[0m\u001b[1;33m\u001b[0m\u001b[1;33m\u001b[0m\u001b[0m\n\u001b[0m",
      "\u001b[1;31mNameError\u001b[0m: name 'x' is not defined"
     ]
    }
   ],
   "source": [
    "for i in range(int(N)):\n",
    "    func = funcGe()\n",
    "    \n",
    "    y[i+1] = y[i] + h*func\n",
    "    x0 +=h\n",
    "    #print(y[i])\n",
    "    print(y[i+1])"
   ]
  },
  {
   "cell_type": "code",
   "execution_count": null,
   "id": "8e88c065",
   "metadata": {},
   "outputs": [],
   "source": []
  },
  {
   "cell_type": "code",
   "execution_count": null,
   "id": "1ab5beef",
   "metadata": {},
   "outputs": [],
   "source": []
  },
  {
   "cell_type": "code",
   "execution_count": null,
   "id": "9feb6f91",
   "metadata": {},
   "outputs": [],
   "source": []
  },
  {
   "cell_type": "code",
   "execution_count": null,
   "id": "6225a950",
   "metadata": {},
   "outputs": [],
   "source": []
  },
  {
   "cell_type": "code",
   "execution_count": null,
   "id": "8d585227",
   "metadata": {},
   "outputs": [],
   "source": []
  },
  {
   "cell_type": "code",
   "execution_count": null,
   "id": "f9d9611a",
   "metadata": {},
   "outputs": [],
   "source": []
  },
  {
   "cell_type": "code",
   "execution_count": null,
   "id": "90d369cf",
   "metadata": {},
   "outputs": [],
   "source": []
  },
  {
   "cell_type": "markdown",
   "id": "c44ee5f4",
   "metadata": {},
   "source": [
    "### Modified Euler Method"
   ]
  },
  {
   "cell_type": "code",
   "execution_count": null,
   "id": "d3256427",
   "metadata": {},
   "outputs": [],
   "source": [
    "\n",
    "x0 = 0\n",
    "xn = 4\n",
    "h = 1\n",
    "N = (xn - x0)/h\n",
    "y = [0 for i in range(int(N+1))]\n",
    "y[x0] = 2\n",
    "\n",
    "    \n",
    "\n",
    "def funcGe(step=0,s=y[i]):\n",
    "    return 4*exp(0.8*(x0+step))-0.5*s\n",
    "\n",
    "\n",
    "for i in range(int(N)):\n",
    "    func = funcGe(0,y[i])\n",
    "    U = y[i] + h*func\n",
    "    func2 = funcGe(h,U)\n",
    "    y[i+1] = y[i] + (h/2)*(func + func2)\n",
    "    x0 +=h\n",
    "    print(y[i+1])"
   ]
  },
  {
   "cell_type": "code",
   "execution_count": null,
   "id": "6f1c7414",
   "metadata": {},
   "outputs": [],
   "source": []
  }
 ],
 "metadata": {
  "kernelspec": {
   "display_name": "Python 3",
   "language": "python",
   "name": "python3"
  },
  "language_info": {
   "codemirror_mode": {
    "name": "ipython",
    "version": 3
   },
   "file_extension": ".py",
   "mimetype": "text/x-python",
   "name": "python",
   "nbconvert_exporter": "python",
   "pygments_lexer": "ipython3",
   "version": "3.8.8"
  }
 },
 "nbformat": 4,
 "nbformat_minor": 5
}
