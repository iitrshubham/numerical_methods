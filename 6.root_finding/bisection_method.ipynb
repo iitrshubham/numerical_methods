{
 "cells": [
  {
   "cell_type": "code",
   "execution_count": 2,
   "id": "c4449f65",
   "metadata": {},
   "outputs": [
    {
     "name": "stdout",
     "output_type": "stream",
     "text": [
      "Bisection method soln: x =  1.3247146606445312\n"
     ]
    }
   ],
   "source": [
    "import math\n",
    "\n",
    "# globals\n",
    "TOL = 10**-5\n",
    "A = 1\n",
    "B = 1.5\n",
    "N = 100\n",
    "\n",
    "# give python eqn of the formula using python math syntax \n",
    "def f(x):\n",
    "    return (math.pow(x,3) - x - 1)\n",
    "\n",
    "# INPUT: function (func), low guess (a), high guess (b), tolerance (tol), \n",
    "#        MAX iterations (N)\n",
    "# CONDITIONS: a < b, f(a)*f(b) < 0\n",
    "# OUTPUT: value which differs from a root of f(x)=0 by less than 'tol' \n",
    "def bisect(func, low, high, tol, N):\n",
    "    # switch low and high if low is larger than high\n",
    "    if low > high:\n",
    "        low = temp\n",
    "        low = high\n",
    "        high = temp\n",
    "    # check if valid input\n",
    "    if func(low)*func(high) > 0:\n",
    "        print(\"Check input for low and high guess (f(low) and f(high) must have different signs)\")\n",
    "    \n",
    "    lastFuncVal = func(low)\n",
    "    for i in range(0, N):\n",
    "        mid = (high+low)/2.0\n",
    "        if func(mid) == 0 or (high-low)/2.0 < tol:\n",
    "            return mid\n",
    "        # same sigh\n",
    "        if func(mid)*func(low) > 0:\n",
    "            low = mid\n",
    "        # diff sign\n",
    "        else:\n",
    "            high = mid\n",
    "        lastFuncVal = func(mid)\n",
    "    return(\"Method failed after {} iterations\".format(N))\n",
    "\n",
    "print(\"Bisection method soln: x = \", bisect(f, A, B, TOL, N))"
   ]
  },
  {
   "cell_type": "code",
   "execution_count": 5,
   "id": "b1d6f913",
   "metadata": {},
   "outputs": [
    {
     "name": "stdout",
     "output_type": "stream",
     "text": [
      "Bisection method soln: x =  1.3247146606445312\n"
     ]
    }
   ],
   "source": [
    "import math\n",
    "\n",
    "# globals\n",
    "TOL = 10**-5\n",
    "A = 1\n",
    "B = 1.5\n",
    "N = 100\n",
    "\n",
    "# give python eqn of the formula using python math syntax \n",
    "def f(x):\n",
    "    return (math.pow(x,3) - x - 1)\n",
    "\n",
    "# INPUT: function (func), low guess (a), high guess (b), tolerance (tol), \n",
    "#        MAX iterations (N)\n",
    "# CONDITIONS: a < b, f(a)*f(b) < 0\n",
    "# OUTPUT: value which differs from a root of f(x)=0 by less than 'tol' \n",
    "def bisect(func, low, high, tol, N):\n",
    "    # switch low and high if low is larger than high\n",
    "    if low > high:\n",
    "        low = temp\n",
    "        low = high\n",
    "        high = temp\n",
    "    # check if valid input\n",
    "    if func(low)*func(high) > 0:\n",
    "        print(\"Check input for low and high guess (f(low) and f(high) must have different signs)\")\n",
    "    \n",
    "    lastFuncVal = func(low)\n",
    "    for i in range(0, N):\n",
    "        mid = (high+low)/2.0\n",
    "        if func(mid) == 0 or (high-low)/2.0 < tol:\n",
    "            return mid\n",
    "        # same sigh\n",
    "        if func(mid)*func(low) > 0:\n",
    "            low = mid\n",
    "        # diff sign\n",
    "\n",
    "        else:\n",
    "            high = mid\n",
    "        lastFuncVal = func(mid)\n",
    "    return(\"Method failed after {} iterations\".format(N))\n",
    "print(\"Bisection method soln: x = \", bisect(f, A, B, TOL, N))"
   ]
  },
  {
   "cell_type": "code",
   "execution_count": null,
   "id": "57ad8d57",
   "metadata": {},
   "outputs": [],
   "source": []
  }
 ],
 "metadata": {
  "kernelspec": {
   "display_name": "Python 3",
   "language": "python",
   "name": "python3"
  },
  "language_info": {
   "codemirror_mode": {
    "name": "ipython",
    "version": 3
   },
   "file_extension": ".py",
   "mimetype": "text/x-python",
   "name": "python",
   "nbconvert_exporter": "python",
   "pygments_lexer": "ipython3",
   "version": "3.8.8"
  }
 },
 "nbformat": 4,
 "nbformat_minor": 5
}
