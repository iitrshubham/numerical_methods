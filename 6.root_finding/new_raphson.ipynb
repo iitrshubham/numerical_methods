{
 "cells": [
  {
   "cell_type": "code",
   "execution_count": 6,
   "id": "be27d819",
   "metadata": {},
   "outputs": [],
   "source": [
    "import math"
   ]
  },
  {
   "cell_type": "code",
   "execution_count": 8,
   "id": "2c22a784",
   "metadata": {},
   "outputs": [
    {
     "name": "stdout",
     "output_type": "stream",
     "text": [
      "Enter Guess: 5\n",
      "Tolerable Error: 0.0001\n",
      "Maximum Step: 10\n",
      "\n",
      "\n",
      "*** NEWTON RAPHSON METHOD IMPLEMENTATION ***\n",
      "Iteration-1, x1 = 3.700000 and f(x1) = 23.153000\n",
      "Iteration-2, x1 = 3.058109 and f(x1) = 4.308989\n",
      "Iteration-3, x1 = 2.871218 and f(x1) = 0.313917\n",
      "Iteration-4, x1 = 2.855308 and f(x1) = 0.002176\n",
      "Iteration-5, x1 = 2.855197 and f(x1) = 0.000000\n",
      "\n",
      "Required root is: 2.85519654\n"
     ]
    }
   ],
   "source": [
    "#function\n",
    "def f(x):\n",
    "    return x**3-5*x-9\n",
    "\n",
    "#derivative function\n",
    "def g(x):\n",
    "    return 3*x**2-5\n",
    "\n",
    " #Newton Rapshon method\n",
    "def newtonRaphson(x0,e,N):\n",
    "    print('\\n\\n*** NEWTON RAPHSON METHOD IMPLEMENTATION ***')\n",
    "    step = 1\n",
    "    flag = 1\n",
    "    condition = True\n",
    "    while condition:\n",
    "        if g(x0) == 0.0:\n",
    "            print('Divide by zero error!')\n",
    "            break\n",
    "        \n",
    "        x1 = x0 - f(x0)/g(x0)\n",
    "        print('Iteration-%d, x1 = %0.6f and f(x1) = %0.6f' % (step, x1, f(x1)))\n",
    "        x0 = x1\n",
    "        step = step + 1\n",
    "        \n",
    "        if step > N:\n",
    "            flag = 0\n",
    "            break\n",
    "        \n",
    "        condition = abs(f(x1)) > e\n",
    "    \n",
    "    if flag==1:\n",
    "        print('\\nRequired root is: %0.8f' % x1)\n",
    "    else:\n",
    "        print('\\nNot Convergent.')\n",
    "\n",
    "\n",
    "#Note: You can combine above three section like this\n",
    "x0 = float(input('Enter Guess: '))\n",
    "e = float(input('Tolerable Error: '))\n",
    "N = int(input('Maximum Step: '))\n",
    "\n",
    "# Starting Newton Raphson Method\n",
    "newtonRaphson(x0,e,N)"
   ]
  },
  {
   "cell_type": "code",
   "execution_count": null,
   "id": "9c5c1d9e",
   "metadata": {},
   "outputs": [],
   "source": [
    "x**2-4*math.exp(x)+5"
   ]
  }
 ],
 "metadata": {
  "kernelspec": {
   "display_name": "Python 3",
   "language": "python",
   "name": "python3"
  },
  "language_info": {
   "codemirror_mode": {
    "name": "ipython",
    "version": 3
   },
   "file_extension": ".py",
   "mimetype": "text/x-python",
   "name": "python",
   "nbconvert_exporter": "python",
   "pygments_lexer": "ipython3",
   "version": "3.8.8"
  }
 },
 "nbformat": 4,
 "nbformat_minor": 5
}
