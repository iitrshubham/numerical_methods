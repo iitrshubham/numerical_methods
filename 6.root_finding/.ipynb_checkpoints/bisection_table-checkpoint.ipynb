{
 "cells": [
  {
   "cell_type": "code",
   "execution_count": null,
   "id": "33ab8e0a",
   "metadata": {},
   "outputs": [],
   "source": [
    "import numpy as np\n",
    "import pandas as pd\n",
    " \n",
    "from Equation import Expression"
   ]
  },
  {
   "cell_type": "code",
   "execution_count": null,
   "id": "c8a2f0d5",
   "metadata": {},
   "outputs": [],
   "source": [
    "def f(x):\n",
    "    return (Expression(x))\n",
    "\n",
    "def bisection_method(f,a, b, tol):\n",
    "    n = 1\n",
    "    tab = np.empty((0,5), dtype=float)\n",
    "   \n",
    "\n",
    "  \n",
    "    if f(a)*f(b) > 0:\n",
    "        #end function, no root.\n",
    "        print(\"No root found.\")\n",
    "\n",
    "    else:\n",
    "        while (b - a)/2.0 > tol:\n",
    "            \n",
    "            midpoint = (a + b)/2.0\n",
    "            fa = f(a)\n",
    "            fb = f(b)\n",
    "\n",
    "            fx = float(f((round(midpoint,4)))) \n",
    "            fx_fix = round(fx,4)\n",
    "            tab = np.append(tab,np.array([[n,round(b,4),round(a,4),round(midpoint,4),('{0:.4f}'.format(fx_fix))]]), axis =0, )\n",
    "\n",
    "            if f(midpoint) == 0:\n",
    "                n=n+1\n",
    "                return(midpoint) \n",
    "            elif fa*f(midpoint) < 0: \n",
    "                b = midpoint\n",
    "                n=n+1\n",
    "\n",
    "            else:\n",
    "                a = midpoint\n",
    "                n=n+1\n",
    "\n",
    "        \n",
    "        return(midpoint,n,tab)\n",
    "\n",
    "def bisec(equ,b, a ):\n",
    "  fn = f(equ)\n",
    "  answer,n, tab= bisection_method(fn,b, a, 0.00001)\n",
    "  print(\"N:\",n, \"Answer: \",  round(answer, 4))\n",
    "  df = pd.DataFrame(data=tab, columns=[\"N\", \"A (-ve)\", \"B (+ve)\", \"MidPoint\", \"f(x)\"])\n",
    "  df.index = np.arange(1,len(df)+1)\n",
    "  df\n",
    "  return tab"
   ]
  },
  {
   "cell_type": "code",
   "execution_count": null,
   "id": "bf795c8c",
   "metadata": {},
   "outputs": [],
   "source": [
    "\n",
    "#equ = \"(x**4)+(2/x**4)-1000\"\n",
    "#equ=\"x**4-x-10\"\n",
    "#equ=\"x/2-(x+1)**(1/3)\"\n",
    "equ=\"np.sin(x)-x(1-x**2)**0.5-0.3307\"\n",
    "#equ=\"(x*np.sin(x))+(np.cos(x))\"\n",
    "print(equ)\n",
    "results = bisec(equ,b=11,a=12)\n",
    "# bisec(b=1,a=2)\n",
    "\n",
    "df = pd.DataFrame(data=results, columns=[\"N\", \"A (-ve)\", \"B (+ve)\", \"MidPoint\", \"f(x)\"])\n",
    "df.index = np.arange(1,len(df)+1)\n",
    "df"
   ]
  },
  {
   "cell_type": "code",
   "execution_count": null,
   "id": "6355017a",
   "metadata": {},
   "outputs": [],
   "source": []
  },
  {
   "cell_type": "code",
   "execution_count": null,
   "id": "574c1f8e",
   "metadata": {},
   "outputs": [],
   "source": []
  }
 ],
 "metadata": {
  "kernelspec": {
   "display_name": "Python 3",
   "language": "python",
   "name": "python3"
  },
  "language_info": {
   "codemirror_mode": {
    "name": "ipython",
    "version": 3
   },
   "file_extension": ".py",
   "mimetype": "text/x-python",
   "name": "python",
   "nbconvert_exporter": "python",
   "pygments_lexer": "ipython3",
   "version": "3.8.8"
  }
 },
 "nbformat": 4,
 "nbformat_minor": 5
}
