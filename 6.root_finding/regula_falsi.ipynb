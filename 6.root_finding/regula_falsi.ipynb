{
 "cells": [
  {
   "cell_type": "code",
   "execution_count": null,
   "id": "a4e1d8cf",
   "metadata": {},
   "outputs": [],
   "source": [
    "import math\n",
    "def f(x):\n",
    "\n",
    "    \"\"\"\n",
    "    :param x: given temp root\n",
    "    :return: the value of the polynomial in x\n",
    "    \"\"\"\n",
    "\n",
    "    return x ** 3 + 2 * x ** 2 + 10 * x "
   ]
  },
  {
   "cell_type": "code",
   "execution_count": 3,
   "id": "8f06b607",
   "metadata": {},
   "outputs": [],
   "source": [
    "\n",
    "\n",
    "\n",
    "def regula_falsi(f, x0, x1, acceptable_error):\n",
    "\n",
    "    \"\"\"\n",
    "    :param f: a polynomial\n",
    "    :param x0: the first x point of an interval\n",
    "    :param x1: the second x point of an interval\n",
    "    :param acceptable_error: the max error for stopping the calculation\n",
    "    :return: the root of a given polynomial\n",
    "    \"\"\"\n",
    "\n",
    "    i = 0\n",
    "    x = (x0 * f(x1) - x1 * f(x0)) / (f(x1) - f(x0))\n",
    "\n",
    "    while abs(f(x)) >= acceptable_error:\n",
    "        x = (x0 * f(x1) - x1 * f(x0)) / (f(x1) - f(x0))\n",
    "\n",
    "        if f(x) == 0:\n",
    "            break\n",
    "        elif f(x0) * f(x) < 0:\n",
    "            x0 = x\n",
    "        else:\n",
    "            x1 = x\n",
    "        print('Iteration ', i, ': ', x)\n",
    "        i += 1\n",
    "    return x\n",
    "\n",
    "\n",
    "#print(regula_falsi(lambda x: x**2, -2, 2, 1))\n"
   ]
  },
  {
   "cell_type": "code",
   "execution_count": 5,
   "id": "2707865a",
   "metadata": {},
   "outputs": [],
   "source": [
    "from Equation import Expression"
   ]
  },
  {
   "cell_type": "code",
   "execution_count": 7,
   "id": "0334529c",
   "metadata": {},
   "outputs": [],
   "source": [
    "def f(x):\n",
    "    return (Expression(x))"
   ]
  },
  {
   "cell_type": "code",
   "execution_count": 8,
   "id": "e4a1bf90",
   "metadata": {},
   "outputs": [
    {
     "ename": "TypeError",
     "evalue": "'str' object is not callable",
     "output_type": "error",
     "traceback": [
      "\u001b[1;31m---------------------------------------------------------------------------\u001b[0m",
      "\u001b[1;31mTypeError\u001b[0m                                 Traceback (most recent call last)",
      "\u001b[1;32m<ipython-input-8-7b514477adc0>\u001b[0m in \u001b[0;36m<module>\u001b[1;34m\u001b[0m\n\u001b[0;32m      1\u001b[0m \u001b[0mequ\u001b[0m\u001b[1;33m=\u001b[0m\u001b[1;34m\"x**3-x-1\"\u001b[0m\u001b[1;33m\u001b[0m\u001b[1;33m\u001b[0m\u001b[0m\n\u001b[1;32m----> 2\u001b[1;33m \u001b[0mregula_falsi\u001b[0m\u001b[1;33m(\u001b[0m\u001b[0mequ\u001b[0m\u001b[1;33m,\u001b[0m \u001b[1;33m-\u001b[0m\u001b[1;36m2\u001b[0m\u001b[1;33m,\u001b[0m \u001b[1;36m2\u001b[0m\u001b[1;33m,\u001b[0m \u001b[1;36m1\u001b[0m\u001b[1;33m)\u001b[0m\u001b[1;33m\u001b[0m\u001b[1;33m\u001b[0m\u001b[0m\n\u001b[0m",
      "\u001b[1;32m<ipython-input-3-857a7d8a85a2>\u001b[0m in \u001b[0;36mregula_falsi\u001b[1;34m(f, x0, x1, acceptable_error)\u001b[0m\n\u001b[0;32m     10\u001b[0m \u001b[1;33m\u001b[0m\u001b[0m\n\u001b[0;32m     11\u001b[0m     \u001b[0mi\u001b[0m \u001b[1;33m=\u001b[0m \u001b[1;36m0\u001b[0m\u001b[1;33m\u001b[0m\u001b[1;33m\u001b[0m\u001b[0m\n\u001b[1;32m---> 12\u001b[1;33m     \u001b[0mx\u001b[0m \u001b[1;33m=\u001b[0m \u001b[1;33m(\u001b[0m\u001b[0mx0\u001b[0m \u001b[1;33m*\u001b[0m \u001b[0mf\u001b[0m\u001b[1;33m(\u001b[0m\u001b[0mx1\u001b[0m\u001b[1;33m)\u001b[0m \u001b[1;33m-\u001b[0m \u001b[0mx1\u001b[0m \u001b[1;33m*\u001b[0m \u001b[0mf\u001b[0m\u001b[1;33m(\u001b[0m\u001b[0mx0\u001b[0m\u001b[1;33m)\u001b[0m\u001b[1;33m)\u001b[0m \u001b[1;33m/\u001b[0m \u001b[1;33m(\u001b[0m\u001b[0mf\u001b[0m\u001b[1;33m(\u001b[0m\u001b[0mx1\u001b[0m\u001b[1;33m)\u001b[0m \u001b[1;33m-\u001b[0m \u001b[0mf\u001b[0m\u001b[1;33m(\u001b[0m\u001b[0mx0\u001b[0m\u001b[1;33m)\u001b[0m\u001b[1;33m)\u001b[0m\u001b[1;33m\u001b[0m\u001b[1;33m\u001b[0m\u001b[0m\n\u001b[0m\u001b[0;32m     13\u001b[0m \u001b[1;33m\u001b[0m\u001b[0m\n\u001b[0;32m     14\u001b[0m     \u001b[1;32mwhile\u001b[0m \u001b[0mabs\u001b[0m\u001b[1;33m(\u001b[0m\u001b[0mf\u001b[0m\u001b[1;33m(\u001b[0m\u001b[0mx\u001b[0m\u001b[1;33m)\u001b[0m\u001b[1;33m)\u001b[0m \u001b[1;33m>=\u001b[0m \u001b[0macceptable_error\u001b[0m\u001b[1;33m:\u001b[0m\u001b[1;33m\u001b[0m\u001b[1;33m\u001b[0m\u001b[0m\n",
      "\u001b[1;31mTypeError\u001b[0m: 'str' object is not callable"
     ]
    }
   ],
   "source": [
    "equ=\"x**3-x-1\"\n",
    "regula_falsi(equ, -2, 2, 1)"
   ]
  },
  {
   "cell_type": "code",
   "execution_count": null,
   "id": "12875c3c",
   "metadata": {},
   "outputs": [],
   "source": []
  }
 ],
 "metadata": {
  "kernelspec": {
   "display_name": "Python 3",
   "language": "python",
   "name": "python3"
  },
  "language_info": {
   "codemirror_mode": {
    "name": "ipython",
    "version": 3
   },
   "file_extension": ".py",
   "mimetype": "text/x-python",
   "name": "python",
   "nbconvert_exporter": "python",
   "pygments_lexer": "ipython3",
   "version": "3.8.8"
  }
 },
 "nbformat": 4,
 "nbformat_minor": 5
}
