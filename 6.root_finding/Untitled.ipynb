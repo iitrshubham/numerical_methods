{
 "cells": [
  {
   "cell_type": "code",
   "execution_count": null,
   "id": "e523976e",
   "metadata": {},
   "outputs": [],
   "source": [
    "# Defining Function\n",
    "def f(x):\n",
    "    return x**3 - 5*x - 9\n",
    "# Implementing Secant Method\n",
    "def secant(x0,x1,e,N):\n",
    "    print('\\n\\n*** SECANT METHOD IMPLEMENTATION ***')\n",
    "step = 1\n",
    "condition = True\n",
    "while condition:\n",
    "if f(x0) == f(x1):\n",
    "print('Divide by zero error!')\n",
    "break\n",
    "x2 = x0 - (x1-x0)*f(x0)/( f(x1) - f(x0) )\n",
    "print('Iteration-%d, x2 = %0.6f and f(x2) = %0.6f' % (step, x2, f(x2)))\n",
    "x0 = x1\n",
    "x1 = x2\n",
    "step = step + 1\n",
    "if step > N:\n",
    "print('Not Convergent!')\n",
    "break\n",
    "condition = abs(f(x2)) > e\n",
    "print('\\n Required root is: %0.8f' % x2)\n",
    "# Input Section\n",
    "x0 = input('Enter First Guess: ')\n",
    "x1 = input('Enter Second Guess: ')\n",
    "e = input('Tolerable Error: ')\n",
    "N = input('Maximum Step: ')\n",
    "# Converting x0 and e to float\n",
    "x0 = float(x0)\n",
    "x1 = float(x1)\n",
    "e = float(e)\n",
    "# Converting N to integer\n",
    "N = int(N)\n",
    "#Note: You can combine above three section like this\n",
    "# x0 = float(input('Enter First Guess: '))\n",
    "# x1 = float(input('Enter Second Guess: '))\n",
    "secant(x0,x1,e,N)"
   ]
  }
 ],
 "metadata": {
  "kernelspec": {
   "display_name": "Python 3",
   "language": "python",
   "name": "python3"
  },
  "language_info": {
   "codemirror_mode": {
    "name": "ipython",
    "version": 3
   },
   "file_extension": ".py",
   "mimetype": "text/x-python",
   "name": "python",
   "nbconvert_exporter": "python",
   "pygments_lexer": "ipython3",
   "version": "3.8.8"
  }
 },
 "nbformat": 4,
 "nbformat_minor": 5
}
