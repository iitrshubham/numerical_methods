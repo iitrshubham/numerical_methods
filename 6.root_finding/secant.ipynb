{
 "cells": [
  {
   "cell_type": "code",
   "execution_count": 1,
   "id": "93b31551",
   "metadata": {},
   "outputs": [
    {
     "name": "stdout",
     "output_type": "stream",
     "text": [
      " x | Selisih \n",
      "------------\n",
      "2  |  0\n",
      "1  |  9998\n",
      "-2.25  |  -3.25\n",
      "-0.5757575757575757  |  1.6742424242424243\n",
      "-0.8442559753276793  |  -0.2684983995701036\n",
      "-0.8890825089834482  |  -0.04482653365576894\n",
      "-0.8874742728330148  |  0.001608236150433373\n",
      "-0.8874821922517728  |  -7.919418757995622e-06\n",
      "-0.8874821936960624  |  -1.444289576824076e-09\n",
      "-0.887482193696061  |  1.4432899320127035e-15\n",
      "-0.8874821936960611  |  -1.1102230246251565e-16\n",
      "-0.8874821936960611  |  0.0\n",
      "\n",
      "Akar Persamaan =  -0.8874821936960611 \t|\t Error =  0.0\n"
     ]
    }
   ],
   "source": [
    "import math\n",
    "\n",
    "def fungsi(x):\n",
    "    y = (x*x)-(7*x)-7\n",
    "    return y\n",
    "\n",
    "def main():\n",
    "    xn1 = 1\n",
    "    xn2 = 2\n",
    "    x = 9999\n",
    "    selisih = x-xn1\n",
    "    error = 0\n",
    "    print(\" x | Selisih \")\n",
    "    print('------------')\n",
    "\n",
    "    print(xn2, \" | \", 0)\n",
    "    print(xn1, \" | \", selisih)\n",
    "    \n",
    "    while(abs(selisih)>error):\n",
    "        \n",
    "        x = xn1 - ((fungsi(xn1)*(xn1-xn2)) / (fungsi(xn1)-fungsi(xn2)))\n",
    "        selisih = x-xn1\n",
    "        print(x, \" | \", selisih)\n",
    "                   \n",
    "        xn2 = xn1\n",
    "        xn1 = x\n",
    "        \n",
    "    print(\"\\nAkar Persamaan = \", x, \"\\t|\\t\", \"Error = \", abs(selisih))\n",
    "    \n",
    "main()"
   ]
  },
  {
   "cell_type": "code",
   "execution_count": null,
   "id": "830cff4e",
   "metadata": {},
   "outputs": [],
   "source": []
  }
 ],
 "metadata": {
  "kernelspec": {
   "display_name": "Python 3",
   "language": "python",
   "name": "python3"
  },
  "language_info": {
   "codemirror_mode": {
    "name": "ipython",
    "version": 3
   },
   "file_extension": ".py",
   "mimetype": "text/x-python",
   "name": "python",
   "nbconvert_exporter": "python",
   "pygments_lexer": "ipython3",
   "version": "3.8.8"
  }
 },
 "nbformat": 4,
 "nbformat_minor": 5
}
