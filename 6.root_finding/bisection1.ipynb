{
 "cells": [
  {
   "cell_type": "code",
   "execution_count": 1,
   "id": "5783b8fa",
   "metadata": {},
   "outputs": [],
   "source": [
    "import numpy as np"
   ]
  },
  {
   "cell_type": "code",
   "execution_count": 6,
   "id": "979a6a27",
   "metadata": {},
   "outputs": [
    {
     "name": "stdout",
     "output_type": "stream",
     "text": [
      " bisection gives root 1 at (x=,#iteration=) (1.31787109375, 9)\n",
      " bisection gives root 2 at (x=,#iteration=)  (2.499999523162842, 20)\n"
     ]
    }
   ],
   "source": [
    "def f(x):\n",
    "    return x**3-x-1  #defined function needing roots\n",
    "    \n",
    "\n",
    "def bisection(x0,x1,tol,maxiter=10000):  #brackets, tolerance and max iterations\n",
    "    Fa = x0\n",
    "    Fb = x1\n",
    "    for i in range(maxiter):         \n",
    "        x3 = (Fa+Fb)/2.0       #finds midpoint for bracket during loop\n",
    "        z= f(Fa) * f(x3)       #multiples left bracket in function with the midpoint\n",
    "        if np.abs(Fa-Fb)<= tol:  #if inital bracket is root stop                              \n",
    "                return x3, i     # and spit out root with num of iterations\n",
    "        if z > tol:\n",
    "            Fa = x3        #moves the midpoint \n",
    "        elif z < tol:      #to be new outside bracket\n",
    "            Fb = x3\n",
    "        else:\n",
    "            print(\"a and b due not bracket root \")\n",
    "      \n",
    "    return x3, i\n",
    "\n",
    "\n",
    "# gives the answer of the roots and num of iterations for that root\n",
    "output1  = bisection(1,1.5,1.0e-3)\n",
    "print(\" bisection gives root 1 at (x=,#iteration=)\",output1)\n",
    "output2 = bisection(1,2.5,1.0e-6)\n",
    "print(\" bisection gives root 2 at (x=,#iteration=) \",output2) \n",
    "\n",
    "\n",
    "\n"
   ]
  },
  {
   "cell_type": "code",
   "execution_count": null,
   "id": "79bef867",
   "metadata": {},
   "outputs": [],
   "source": []
  }
 ],
 "metadata": {
  "kernelspec": {
   "display_name": "Python 3",
   "language": "python",
   "name": "python3"
  },
  "language_info": {
   "codemirror_mode": {
    "name": "ipython",
    "version": 3
   },
   "file_extension": ".py",
   "mimetype": "text/x-python",
   "name": "python",
   "nbconvert_exporter": "python",
   "pygments_lexer": "ipython3",
   "version": "3.8.8"
  }
 },
 "nbformat": 4,
 "nbformat_minor": 5
}
