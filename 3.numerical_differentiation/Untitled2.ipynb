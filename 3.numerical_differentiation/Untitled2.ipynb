{
 "cells": [
  {
   "cell_type": "code",
   "execution_count": 1,
   "id": "71a654cb",
   "metadata": {},
   "outputs": [],
   "source": [
    "import pandas as pd\n",
    "import matplotlib.pyplot as plt\n",
    "import numpy as np"
   ]
  },
  {
   "cell_type": "code",
   "execution_count": 2,
   "id": "a922de1b",
   "metadata": {},
   "outputs": [],
   "source": [
    "def newton_interpolation(x, y, xi):\n",
    "    #length/number of datapoints\n",
    "    n = len(x)\n",
    "    #divided difference initialization\n",
    "    fdd = [[None for x in range(n)] for x in range(n)]\n",
    "    #f(X) values at different degrees\n",
    "    yint = [None for x in range(n)]\n",
    "    #error value\n",
    "    ea = [None for x in range(n)]\n",
    "    \n",
    "    #finding divided difference\n",
    "    for i in range(n):\n",
    "        fdd[i][0] = y[i]\n",
    "    for j in range(1,n):\n",
    "        for i in range(n-j):\n",
    "            fdd[i][j] = (fdd[i+1][j-1] - fdd[i][j-1])/(x[i+j]-x[i])\n",
    "    \n",
    "    #just printing dd here\n",
    "    fdd_table = pd.DataFrame(fdd)\n",
    "    print(fdd_table)\n",
    "    \n",
    "    #interpolating xi\n",
    "    xterm = 1\n",
    "    yint[0] = fdd[0][0]\n",
    "    for order in range(1, n):\n",
    "        xterm = xterm * (xi - x[order-1])\n",
    "        yint2 = yint[order-1] + fdd[0][order]*xterm\n",
    "        ea[order-1] = yint2 - yint[order-1]\n",
    "        yint[order] = yint2\n",
    "    \n",
    "    #returning a map for pandas dataframe\n",
    "    return map(lambda yy, ee : [yy, ee], yint, ea)"
   ]
  },
  {
   "cell_type": "code",
   "execution_count": 3,
   "id": "37c1a331",
   "metadata": {},
   "outputs": [],
   "source": [
    "x = [ 40, 50, 60, 70, 80]\n",
    "y = [0, 1.3862944, 1.7917595, 1.6094379, 1.0986123 , 0.4054641, 0.9162907, 1.2527630]"
   ]
  },
  {
   "cell_type": "code",
   "execution_count": 4,
   "id": "7d610268",
   "metadata": {},
   "outputs": [
    {
     "name": "stdout",
     "output_type": "stream",
     "text": [
      "          0         1         2         3         4         5         6  \\\n",
      "0  0.000000  0.462098 -0.051873  0.007866 -0.001956  0.000908 -0.000301   \n",
      "1  1.386294  0.202733 -0.020411  0.003953 -0.001502  0.000456 -0.000110   \n",
      "2  1.791759  0.182322 -0.024364  0.007709 -0.002186  0.000511       NaN   \n",
      "3  1.609438  0.255413 -0.059053  0.015361 -0.003464       NaN       NaN   \n",
      "4  1.098612  0.462099 -0.097456  0.020557       NaN       NaN       NaN   \n",
      "5  0.405464  0.510827 -0.087177       NaN       NaN       NaN       NaN   \n",
      "6  0.916291  0.336472       NaN       NaN       NaN       NaN       NaN   \n",
      "7  1.252763       NaN       NaN       NaN       NaN       NaN       NaN   \n",
      "\n",
      "          7  \n",
      "0  0.000076  \n",
      "1       NaN  \n",
      "2       NaN  \n",
      "3       NaN  \n",
      "4       NaN  \n",
      "5       NaN  \n",
      "6       NaN  \n",
      "7       NaN  \n"
     ]
    }
   ],
   "source": [
    "a = newton_interpolation(x, y, 2)\n",
    "df = pd.DataFrame(a, columns=['f(x)','error'])"
   ]
  },
  {
   "cell_type": "code",
   "execution_count": null,
   "id": "69d34bf1",
   "metadata": {},
   "outputs": [],
   "source": []
  }
 ],
 "metadata": {
  "kernelspec": {
   "display_name": "Python 3",
   "language": "python",
   "name": "python3"
  },
  "language_info": {
   "codemirror_mode": {
    "name": "ipython",
    "version": 3
   },
   "file_extension": ".py",
   "mimetype": "text/x-python",
   "name": "python",
   "nbconvert_exporter": "python",
   "pygments_lexer": "ipython3",
   "version": "3.8.8"
  }
 },
 "nbformat": 4,
 "nbformat_minor": 5
}
