{
 "cells": [
  {
   "cell_type": "code",
   "execution_count": 1,
   "id": "9e5b9c2d",
   "metadata": {},
   "outputs": [
    {
     "name": "stdout",
     "output_type": "stream",
     "text": [
      "1.0\t7.989\t0.4140000000000006\t-0.036000000000000476\t0.005999999999999339\t-0.001999999999996227\t0.0009999999999896758\t0.0020000000000228724\t\n",
      "1.1\t8.403\t0.3780000000000001\t-0.030000000000001137\t0.004000000000003112\t-0.0010000000000065512\t0.003000000000012548\t\n",
      "1.2\t8.781\t0.347999999999999\t-0.025999999999998025\t0.002999999999996561\t0.002000000000005997\t\n",
      "1.3\t9.129\t0.32200000000000095\t-0.023000000000001464\t0.005000000000002558\t\n",
      "1.4\t9.451\t0.2989999999999995\t-0.017999999999998906\t\n",
      "1.5\t9.75\t0.2810000000000006\t\n",
      "1.6\t10.031\t\n",
      "\n",
      "Value at 1.1 is 8.403\n"
     ]
    }
   ],
   "source": [
    "# Python3 Program to interpolate using\n",
    "# newton forward interpolation\n",
    "\n",
    "# calculating u mentioned in the formula\n",
    "def u_cal(u, n):\n",
    "\n",
    "\ttemp = u;\n",
    "\tfor i in range(1, n):\n",
    "\t\ttemp = temp * (u - i);\n",
    "\treturn temp;\n",
    "\n",
    "# calculating factorial of given number n\n",
    "def fact(n):\n",
    "\tf = 1;\n",
    "\tfor i in range(2, n + 1):\n",
    "\t\tf *= i;\n",
    "\treturn f;\n",
    "\n",
    "# Driver Code\n",
    "\n",
    "# Number of values given\n",
    "n = 7;\n",
    "x = [ 1.0, 1.1, 1.2, 1.3, 1.4, 1.5, 1.6 ];\n",
    "\t\n",
    "# y[][] is used for difference table\n",
    "# with y[][0] used for input\n",
    "y = [[0 for i in range(n)]\n",
    "\t\tfor j in range(n)];\n",
    "y[0][0] = 7.989;\n",
    "y[1][0] = 8.403;\n",
    "y[2][0] = 8.781;\n",
    "y[3][0] = 9.129;\n",
    "y[4][0] = 9.451;\n",
    "y[5][0] = 9.750;\n",
    "y[6][0] = 10.031;\n",
    "\n",
    "# Calculating the forward difference\n",
    "# table\n",
    "for i in range(1, n):\n",
    "\tfor j in range(n - i):\n",
    "\t\ty[j][i] = y[j + 1][i - 1] - y[j][i - 1];\n",
    "\n",
    "# Displaying the forward difference table\n",
    "for i in range(n):\n",
    "\tprint(x[i], end = \"\\t\");\n",
    "\tfor j in range(n - i):\n",
    "\t\tprint(y[i][j], end = \"\\t\");\n",
    "\tprint(\"\");\n",
    "\n",
    "# Value to interpolate at\n",
    "value = 1.1;\n",
    "\n",
    "# initializing u and sum\n",
    "sum = y[0][0];\n",
    "u = (value - x[0]) / (x[1] - x[0]);\n",
    "for i in range(1,n):\n",
    "\tsum = sum + (u_cal(u, i) * y[0][i]) / fact(i);\n",
    "\n",
    "print(\"\\nValue at\", value,\n",
    "\t\"is\", round(sum, 6));\n",
    "\n",
    "# This code is contributed by mits\n"
   ]
  }
 ],
 "metadata": {
  "kernelspec": {
   "display_name": "Python 3",
   "language": "python",
   "name": "python3"
  },
  "language_info": {
   "codemirror_mode": {
    "name": "ipython",
    "version": 3
   },
   "file_extension": ".py",
   "mimetype": "text/x-python",
   "name": "python",
   "nbconvert_exporter": "python",
   "pygments_lexer": "ipython3",
   "version": "3.8.8"
  }
 },
 "nbformat": 4,
 "nbformat_minor": 5
}
