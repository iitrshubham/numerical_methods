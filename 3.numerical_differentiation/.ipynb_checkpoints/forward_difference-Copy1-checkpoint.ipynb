{
 "cells": [
  {
   "cell_type": "code",
   "execution_count": 2,
   "id": "1155218e",
   "metadata": {},
   "outputs": [
    {
     "name": "stdout",
     "output_type": "stream",
     "text": [
      "Enter number of data points: 5\n",
      "Enter data for x and y: \n",
      "x[0]=40\n",
      "y[0]=31\n",
      "x[1]=50\n",
      "y[1]=73\n",
      "x[2]=60\n",
      "y[2]=124\n",
      "x[3]=70\n",
      "y[3]=159\n",
      "x[4]=80\n",
      "y[4]=190\n",
      "\n",
      "FORWARD DIFFERENCE TABLE\n",
      "\n",
      "40.00\t\t31.00\t\t42.00\t\t9.00\t\t-25.00\t\t37.00\n",
      "50.00\t\t73.00\t\t51.00\t\t-16.00\t\t12.00\n",
      "60.00\t\t124.00\t\t35.00\t\t-4.00\n",
      "70.00\t\t159.00\t\t31.00\n",
      "80.00\t\t190.00\n"
     ]
    }
   ],
   "source": [
    "# Forward Difference Table Generation \n",
    "\n",
    "# Importing NumPy Library\n",
    "import numpy as np\n",
    "import sys\n",
    "\n",
    "\n",
    "# Reading number of unknowns\n",
    "n = int(input('Enter number of data points: '))\n",
    "\n",
    "# Making numpy array of n & n x n size and initializing \n",
    "# to zero for storing x and y value along with differences of y\n",
    "x = np.zeros((n))\n",
    "y = np.zeros((n,n))\n",
    "\n",
    "\n",
    "# Reading data points\n",
    "print('Enter data for x and y: ')\n",
    "for i in range(n):\n",
    "    x[i] = float(input( 'x['+str(i)+']='))\n",
    "    y[i][0] = float(input( 'y['+str(i)+']='))\n",
    "    \n",
    "# Generating forward difference table\n",
    "for i in range(1,n):\n",
    "    for j in range(0,n-i):\n",
    "        y[j][i] = y[j+1][i-1] - y[j][i-1]\n",
    "\n",
    "        \n",
    "print('\\nFORWARD DIFFERENCE TABLE\\n');\n",
    "\n",
    "for i in range(0,n):\n",
    "    print('%0.2f' %(x[i]), end='')\n",
    "    for j in range(0, n-i):\n",
    "        print('\\t\\t%0.2f' %(y[i][j]), end='')\n",
    "    print()"
   ]
  },
  {
   "cell_type": "code",
   "execution_count": 4,
   "id": "462ef62d",
   "metadata": {},
   "outputs": [],
   "source": [
    "# calculating u mentioned in the formula\n",
    "def u_cal(u, n):\n",
    "\n",
    "\ttemp = u;\n",
    "\tfor i in range(1, n):\n",
    "\t\ttemp = temp * (u - i);\n",
    "\treturn temp;"
   ]
  },
  {
   "cell_type": "code",
   "execution_count": 5,
   "id": "db538c0d",
   "metadata": {},
   "outputs": [],
   "source": [
    "# calculating factorial of given number n\n",
    "def fact(n):\n",
    "\tf = 1;\n",
    "\tfor i in range(2, n + 1):\n",
    "\t\tf *= i;\n",
    "\treturn f;"
   ]
  },
  {
   "cell_type": "code",
   "execution_count": 6,
   "id": "e2ff0c1e",
   "metadata": {},
   "outputs": [
    {
     "name": "stdout",
     "output_type": "stream",
     "text": [
      "\n",
      "Value at 45 is 47.867188\n"
     ]
    }
   ],
   "source": [
    "# Value to interpolate at\n",
    "value = 45;\n",
    "\n",
    "# initializing u and sum\n",
    "sum = y[0][0];\n",
    "u = (value - x[0]) / (x[1] - x[0]);\n",
    "for i in range(1,n):\n",
    "\tsum = sum + (u_cal(u, i) * y[0][i]) / fact(i);\n",
    "\n",
    "print(\"\\nValue at\", value,\n",
    "\t\"is\", round(sum, 6));"
   ]
  },
  {
   "cell_type": "code",
   "execution_count": null,
   "id": "a67c8b94",
   "metadata": {},
   "outputs": [],
   "source": []
  }
 ],
 "metadata": {
  "kernelspec": {
   "display_name": "Python 3",
   "language": "python",
   "name": "python3"
  },
  "language_info": {
   "codemirror_mode": {
    "name": "ipython",
    "version": 3
   },
   "file_extension": ".py",
   "mimetype": "text/x-python",
   "name": "python",
   "nbconvert_exporter": "python",
   "pygments_lexer": "ipython3",
   "version": "3.8.8"
  }
 },
 "nbformat": 4,
 "nbformat_minor": 5
}
