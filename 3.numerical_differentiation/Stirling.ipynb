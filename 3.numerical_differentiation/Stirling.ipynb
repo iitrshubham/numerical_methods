{
 "cells": [
  {
   "cell_type": "code",
   "execution_count": 1,
   "id": "74426907",
   "metadata": {},
   "outputs": [],
   "source": [
    "# Python3 program to demonstrate Stirling\n",
    "# Approximation\n",
    "import math\n",
    "\n",
    "# Function to calculate value using\n",
    "# Stirling formula\n",
    "def Stirling(x, fx, x1, n):\n",
    "\n",
    "\ty1 = 0; N1 = 1; d = 1;\n",
    "\tN2 = 1; d2 = 1;\n",
    "\ttemp1 = 1; temp2 = 1;\n",
    "\tk = 1; l = 1;\n",
    "\tdelta = [[0 for i in range(n)]\n",
    "\t\t\t\tfor j in range(n)];\n",
    "\n",
    "\th = x[1] - x[0];\n",
    "\ts = math.floor(n / 2);\n",
    "\ta = x[s];\n",
    "\tu = (x1 - a) / h;\n",
    "\n",
    "\t# Preparing the forward difference\n",
    "\t# table\n",
    "\tfor i in range(n - 1):\n",
    "\t\tdelta[i][0] = fx[i + 1] - fx[i];\n",
    "\tfor i in range(1, n - 1):\n",
    "\t\tfor j in range(n - i - 1):\n",
    "\t\t\tdelta[j][i] = (delta[j + 1][i - 1] -\n",
    "\t\t\t\t\t\tdelta[j][i - 1]);\n",
    "\n",
    "\t# Calculating f(x) using the Stirling formula\n",
    "\ty1 = fx[s];\n",
    "\n",
    "\tfor i in range(1, n):\n",
    "\t\tif (i % 2 != 0):\n",
    "\t\t\tif (k != 2):\n",
    "\t\t\t\ttemp1 *= (pow(u, k) - pow((k - 1), 2));\n",
    "\t\t\telse:\n",
    "\t\t\t\ttemp1 *= (pow(u, 2) - pow((k - 1), 2));\n",
    "\t\t\tk += 1;\n",
    "\t\t\td *= i;\n",
    "\t\t\ts = math.floor((n - i) / 2);\n",
    "\t\t\ty1 += (temp1 / (2 * d)) * (delta[s][i - 1] +\n",
    "\t\t\t\t\t\t\t\t\tdelta[s - 1][i - 1]);\n",
    "\t\telse:\n",
    "\t\t\ttemp2 *= (pow(u, 2) - pow((l - 1), 2));\n",
    "\t\t\tl += 1;\n",
    "\t\t\td *= i;\n",
    "\t\t\ts = math.floor((n - i) / 2);\n",
    "\t\t\ty1 += (temp2 / (d)) * (delta[s][i - 1]);\n",
    "\n",
    "\tprint(round(y1, 3));\n"
   ]
  },
  {
   "cell_type": "code",
   "execution_count": 2,
   "id": "6100f730",
   "metadata": {},
   "outputs": [
    {
     "name": "stdout",
     "output_type": "stream",
     "text": [
      "0.389\n"
     ]
    }
   ],
   "source": [
    "# Driver Code\n",
    "n = 5;\n",
    "x = [0, 0.5, 1.0, 1.5, 2.0 ];\n",
    "fx = [ 0, 0.191, 0.341, 0.433, 0.477];\n",
    "\n",
    "# Value to calculate f(x)\n",
    "x1 = 1.22;\n",
    "Stirling(x, fx, x1, n);\n",
    "\n",
    "# This code is contributed by mits"
   ]
  }
 ],
 "metadata": {
  "kernelspec": {
   "display_name": "Python 3",
   "language": "python",
   "name": "python3"
  },
  "language_info": {
   "codemirror_mode": {
    "name": "ipython",
    "version": 3
   },
   "file_extension": ".py",
   "mimetype": "text/x-python",
   "name": "python",
   "nbconvert_exporter": "python",
   "pygments_lexer": "ipython3",
   "version": "3.8.8"
  }
 },
 "nbformat": 4,
 "nbformat_minor": 5
}
