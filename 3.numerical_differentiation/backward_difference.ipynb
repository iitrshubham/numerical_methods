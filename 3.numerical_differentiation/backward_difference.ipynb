{
 "cells": [
  {
   "cell_type": "code",
   "execution_count": 1,
   "id": "a9f2e815",
   "metadata": {
    "scrolled": true
   },
   "outputs": [
    {
     "name": "stdout",
     "output_type": "stream",
     "text": [
      "Enter number of data points: 4\n",
      "Enter data for x and y: \n",
      "x[0]=0\n",
      "y[0]=1\n",
      "x[1]=1\n",
      "y[1]=2\n",
      "x[2]=2\n",
      "y[2]=1\n",
      "x[3]=3\n",
      "y[3]=10\n",
      "\n",
      "BACKWARD DIFFERENCE TABLE\n",
      "\n",
      "0.00\t1.00\n",
      "1.00\t2.00\t1.00\n",
      "2.00\t1.00\t-1.00\t-2.00\n",
      "3.00\t10.00\t9.00\t10.00\t12.00\n"
     ]
    }
   ],
   "source": [
    "# Backward Difference Table Generation \n",
    "\n",
    "# Importing NumPy Library\n",
    "import numpy as np\n",
    "import sys\n",
    "\n",
    "# Reading number of unknowns\n",
    "n = int(input('Enter number of data points: '))\n",
    "\n",
    "# Making numpy array of n & n x n size and initializing \n",
    "# to zero for storing x and y value along with differences of y\n",
    "x = np.zeros((n))\n",
    "y = np.zeros((n,n))\n",
    "\n",
    "\n",
    "# Reading data points\n",
    "print('Enter data for x and y: ')\n",
    "for i in range(n):\n",
    "    x[i] = float(input( 'x['+str(i)+']='))\n",
    "    y[i][0] = float(input( 'y['+str(i)+']='))\n",
    "    \n",
    "# Generating backward difference table\n",
    "for i in range(1,n):\n",
    "    for j in range(n-1,i-2,-1):\n",
    "        y[j][i] = y[j][i-1] - y[j-1][i-1]\n",
    "\n",
    "        \n",
    "print('\\nBACKWARD DIFFERENCE TABLE\\n');\n",
    "\n",
    "for i in range(0,n):\n",
    "    print('%0.2f' %(x[i]), end='')\n",
    "    for j in range(0, i+1):\n",
    "        print('\\t%0.2f' %(y[i][j]), end='')\n",
    "    print()"
   ]
  },
  {
   "cell_type": "code",
   "execution_count": 2,
   "id": "eb8e939b",
   "metadata": {},
   "outputs": [],
   "source": [
    "# calculating u mentioned in the formula\n",
    "def u_cal(u, n):\n",
    "\n",
    "\ttemp = u;\n",
    "\tfor i in range(1, n):\n",
    "\t\ttemp = temp * (u + i);\n",
    "\treturn temp;"
   ]
  },
  {
   "cell_type": "code",
   "execution_count": 3,
   "id": "93b79570",
   "metadata": {},
   "outputs": [],
   "source": [
    "# calculating factorial of given number n\n",
    "def fact(n):\n",
    "\tf = 1;\n",
    "\tfor i in range(2, n + 1):\n",
    "\t\tf *= i;\n",
    "\treturn f;"
   ]
  },
  {
   "cell_type": "code",
   "execution_count": 6,
   "id": "fea8574b",
   "metadata": {},
   "outputs": [
    {
     "name": "stdout",
     "output_type": "stream",
     "text": [
      "\n",
      "Value at 4 is 228.0\n"
     ]
    }
   ],
   "source": [
    "# Value to interpolate at\n",
    "value = 4;\n",
    "\n",
    "# initializing u and sum\n",
    "sum = y[i][0];\n",
    "u = (value - x[0]*n) / (x[1] - x[0]);\n",
    "for i in range(1,n):\n",
    "\tsum = sum + (u_cal(u, i) * y[i][0]) / fact(i);\n",
    "\n",
    "print(\"\\nValue at\", value,\n",
    "\t\"is\", round(sum, 6));"
   ]
  },
  {
   "cell_type": "code",
   "execution_count": 7,
   "id": "0b9acb4f",
   "metadata": {},
   "outputs": [
    {
     "data": {
      "text/plain": [
       "4"
      ]
     },
     "execution_count": 7,
     "metadata": {},
     "output_type": "execute_result"
    }
   ],
   "source": [
    "n"
   ]
  },
  {
   "cell_type": "code",
   "execution_count": null,
   "id": "2645dee4",
   "metadata": {},
   "outputs": [],
   "source": []
  }
 ],
 "metadata": {
  "kernelspec": {
   "display_name": "Python 3",
   "language": "python",
   "name": "python3"
  },
  "language_info": {
   "codemirror_mode": {
    "name": "ipython",
    "version": 3
   },
   "file_extension": ".py",
   "mimetype": "text/x-python",
   "name": "python",
   "nbconvert_exporter": "python",
   "pygments_lexer": "ipython3",
   "version": "3.8.8"
  }
 },
 "nbformat": 4,
 "nbformat_minor": 5
}
