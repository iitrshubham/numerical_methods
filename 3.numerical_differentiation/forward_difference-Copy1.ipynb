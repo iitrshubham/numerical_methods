{
 "cells": [
  {
   "cell_type": "code",
   "execution_count": 1,
   "id": "1155218e",
   "metadata": {},
   "outputs": [
    {
     "name": "stdout",
     "output_type": "stream",
     "text": [
      "Enter number of data points: 7\n",
      "Enter data for x and y: \n",
      "x[0]=0\n",
      "y[0]=30.13\n",
      "x[1]=0.1\n",
      "y[1]=31.62\n",
      "x[2]=0.2\n",
      "y[2]=32.87\n",
      "x[3]=0.3\n",
      "y[3]=33.64\n",
      "x[4]=0.4\n",
      "y[4]=33.95\n",
      "x[5]=0.5\n",
      "y[5]=33.81\n",
      "x[6]=0.6\n",
      "y[6]=33.24\n",
      "\n",
      "FORWARD DIFFERENCE TABLE\n",
      "\n",
      "0.00\t\t30.13\t\t1.49\t\t-0.24\t\t-0.24\t\t0.26\t\t-0.27\t\t0.29\n",
      "0.10\t\t31.62\t\t1.25\t\t-0.48\t\t0.02\t\t-0.01\t\t0.02\n",
      "0.20\t\t32.87\t\t0.77\t\t-0.46\t\t0.01\t\t0.01\n",
      "0.30\t\t33.64\t\t0.31\t\t-0.45\t\t0.02\n",
      "0.40\t\t33.95\t\t-0.14\t\t-0.43\n",
      "0.50\t\t33.81\t\t-0.57\n",
      "0.60\t\t33.24\n"
     ]
    }
   ],
   "source": [
    "# Forward Difference Table Generation \n",
    "\n",
    "# Importing NumPy Library\n",
    "import numpy as np\n",
    "import sys\n",
    "\n",
    "\n",
    "# Reading number of unknowns\n",
    "n = int(input('Enter number of data points: '))\n",
    "\n",
    "# Making numpy array of n & n x n size and initializing \n",
    "# to zero for storing x and y value along with differences of y\n",
    "x = np.zeros((n))\n",
    "y = np.zeros((n,n))\n",
    "\n",
    "\n",
    "# Reading data points\n",
    "print('Enter data for x and y: ')\n",
    "for i in range(n):\n",
    "    x[i] = float(input( 'x['+str(i)+']='))\n",
    "    y[i][0] = float(input( 'y['+str(i)+']='))\n",
    "    \n",
    "# Generating forward difference table\n",
    "for i in range(1,n):\n",
    "    for j in range(0,n-i):\n",
    "        y[j][i] = y[j+1][i-1] - y[j][i-1]\n",
    "\n",
    "        \n",
    "print('\\nFORWARD DIFFERENCE TABLE\\n');\n",
    "\n",
    "for i in range(0,n):\n",
    "    print('%0.2f' %(x[i]), end='')\n",
    "    for j in range(0, n-i):\n",
    "        print('\\t\\t%0.2f' %(y[i][j]), end='')\n",
    "    print()"
   ]
  },
  {
   "cell_type": "code",
   "execution_count": 4,
   "id": "462ef62d",
   "metadata": {},
   "outputs": [],
   "source": [
    "# calculating u mentioned in the formula\n",
    "def u_cal(u, n):\n",
    "\n",
    "\ttemp = u;\n",
    "\tfor i in range(1, n):\n",
    "\t\ttemp = temp * (u - i);\n",
    "\treturn temp;"
   ]
  },
  {
   "cell_type": "code",
   "execution_count": 5,
   "id": "db538c0d",
   "metadata": {},
   "outputs": [],
   "source": [
    "# calculating factorial of given number n\n",
    "def fact(n):\n",
    "\tf = 1;\n",
    "\tfor i in range(2, n + 1):\n",
    "\t\tf *= i;\n",
    "\treturn f;"
   ]
  },
  {
   "cell_type": "code",
   "execution_count": 6,
   "id": "e2ff0c1e",
   "metadata": {},
   "outputs": [
    {
     "name": "stdout",
     "output_type": "stream",
     "text": [
      "\n",
      "Value at 45 is 47.867188\n"
     ]
    }
   ],
   "source": [
    "# Value to interpolate at\n",
    "value = 45;\n",
    "\n",
    "# initializing u and sum\n",
    "sum = y[0][0];\n",
    "u = (value - x[0]) / (x[1] - x[0]);\n",
    "for i in range(1,n):\n",
    "\tsum = sum + (u_cal(u, i) * y[0][i]) / fact(i);\n",
    "\n",
    "print(\"\\nValue at\", value,\n",
    "\t\"is\", round(sum, 6));"
   ]
  },
  {
   "cell_type": "code",
   "execution_count": null,
   "id": "a67c8b94",
   "metadata": {},
   "outputs": [],
   "source": []
  }
 ],
 "metadata": {
  "kernelspec": {
   "display_name": "Python 3",
   "language": "python",
   "name": "python3"
  },
  "language_info": {
   "codemirror_mode": {
    "name": "ipython",
    "version": 3
   },
   "file_extension": ".py",
   "mimetype": "text/x-python",
   "name": "python",
   "nbconvert_exporter": "python",
   "pygments_lexer": "ipython3",
   "version": "3.8.8"
  }
 },
 "nbformat": 4,
 "nbformat_minor": 5
}
