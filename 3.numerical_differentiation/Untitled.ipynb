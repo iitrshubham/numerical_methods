{
 "cells": [
  {
   "cell_type": "code",
   "execution_count": 1,
   "id": "c72a86d6",
   "metadata": {},
   "outputs": [],
   "source": [
    "# Python3 Program to interpolate using\n",
    "# newton forward interpolation\n",
    "\n",
    "# calculating u mentioned in the formula\n",
    "def u_cal(u, n):\n",
    "\n",
    "\ttemp = u;\n",
    "\tfor i in range(1, n):\n",
    "\t\ttemp = temp * (u - i);\n",
    "\treturn temp;"
   ]
  },
  {
   "cell_type": "code",
   "execution_count": 2,
   "id": "b9d3ec25",
   "metadata": {},
   "outputs": [],
   "source": [
    "# calculating factorial of given number n\n",
    "def fact(n):\n",
    "\tf = 1;\n",
    "\tfor i in range(2, n + 1):\n",
    "\t\tf *= i;\n",
    "\treturn f;"
   ]
  },
  {
   "cell_type": "code",
   "execution_count": 3,
   "id": "9e5b9c2d",
   "metadata": {},
   "outputs": [
    {
     "name": "stdout",
     "output_type": "stream",
     "text": [
      "40\t31\t42\t9\t-25\t37\t\n",
      "50\t73\t51\t-16\t12\t\n",
      "60\t124\t35\t-4\t\n",
      "70\t159\t31\t\n",
      "80\t190\t\n",
      "\n",
      "Value at 45 is 47.867188\n"
     ]
    }
   ],
   "source": [
    "# Driver Code\n",
    "\n",
    "# Number of values given\n",
    "n = 5;\n",
    "x = [ 40, 50, 60, 70, 80];\n",
    "\t\n",
    "# y[][] is used for difference table\n",
    "# with y[][0] used for input\n",
    "y = [[0 for i in range(n)]\n",
    "\t\tfor j in range(n)];\n",
    "y[0][0] = 31;\n",
    "y[1][0] = 73;\n",
    "y[2][0] = 124;\n",
    "y[3][0] = 159;\n",
    "y[4][0] = 190;\n",
    "#y[5][0] = 9.750;\n",
    "#y[6][0] = 10.031;\n",
    "\n",
    "# Calculating the forward difference\n",
    "# table\n",
    "for i in range(1, n):\n",
    "\tfor j in range(n - i):\n",
    "\t\ty[j][i] = y[j + 1][i - 1] - y[j][i - 1];\n",
    "\n",
    "# Displaying the forward difference table\n",
    "for i in range(n):\n",
    "\tprint(x[i], end = \"\\t\");\n",
    "\tfor j in range(n - i):\n",
    "\t\tprint(y[i][j], end = \"\\t\");\n",
    "\tprint(\"\");\n",
    "\n",
    "# Value to interpolate at\n",
    "value = 45;\n",
    "\n",
    "# initializing u and sum\n",
    "sum = y[0][0];\n",
    "u = (value - x[0]) / (x[1] - x[0]);\n",
    "for i in range(1,n):\n",
    "\tsum = sum + (u_cal(u, i) * y[0][i]) / fact(i);\n",
    "\n",
    "print(\"\\nValue at\", value,\n",
    "\t\"is\", round(sum, 6));\n",
    "\n",
    "# This code is contributed by mits\n"
   ]
  },
  {
   "cell_type": "code",
   "execution_count": null,
   "id": "b27659b7",
   "metadata": {},
   "outputs": [],
   "source": []
  }
 ],
 "metadata": {
  "kernelspec": {
   "display_name": "Python 3",
   "language": "python",
   "name": "python3"
  },
  "language_info": {
   "codemirror_mode": {
    "name": "ipython",
    "version": 3
   },
   "file_extension": ".py",
   "mimetype": "text/x-python",
   "name": "python",
   "nbconvert_exporter": "python",
   "pygments_lexer": "ipython3",
   "version": "3.8.8"
  }
 },
 "nbformat": 4,
 "nbformat_minor": 5
}
