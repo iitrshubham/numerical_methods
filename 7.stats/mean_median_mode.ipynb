{
 "cells": [
  {
   "cell_type": "code",
   "execution_count": 1,
   "id": "437d8a61",
   "metadata": {},
   "outputs": [],
   "source": [
    "import numpy as np\n",
    "import matplotlib.pyplot as plt\n",
    "from scipy import stats"
   ]
  },
  {
   "cell_type": "code",
   "execution_count": 2,
   "id": "a66f37cb",
   "metadata": {},
   "outputs": [],
   "source": [
    "x = np.array([0, 1, 2, 5, 6, 7, 8, 8, 8, 7, 6, 5, 2, 1, 0])"
   ]
  },
  {
   "cell_type": "code",
   "execution_count": 3,
   "id": "98736830",
   "metadata": {},
   "outputs": [
    {
     "data": {
      "text/plain": [
       "4.4"
      ]
     },
     "execution_count": 3,
     "metadata": {},
     "output_type": "execute_result"
    }
   ],
   "source": [
    "x.mean()"
   ]
  },
  {
   "cell_type": "code",
   "execution_count": 4,
   "id": "901d2c5d",
   "metadata": {},
   "outputs": [
    {
     "data": {
      "text/plain": [
       "2.961981318869742"
      ]
     },
     "execution_count": 4,
     "metadata": {},
     "output_type": "execute_result"
    }
   ],
   "source": [
    "x.std()"
   ]
  },
  {
   "cell_type": "code",
   "execution_count": 5,
   "id": "0a69e4bf",
   "metadata": {},
   "outputs": [
    {
     "data": {
      "text/plain": [
       "[1.4380186811302584, 7.361981318869742]"
      ]
     },
     "execution_count": 5,
     "metadata": {},
     "output_type": "execute_result"
    }
   ],
   "source": [
    "[x.mean() - x.std(), x.mean() + x.std()]"
   ]
  },
  {
   "cell_type": "code",
   "execution_count": 6,
   "id": "b67d0026",
   "metadata": {},
   "outputs": [
    {
     "data": {
      "text/plain": [
       "[-1.5239626377394835, 10.323962637739484]"
      ]
     },
     "execution_count": 6,
     "metadata": {},
     "output_type": "execute_result"
    }
   ],
   "source": [
    "[x.mean() - 2 * x.std(), x.mean() + 2 * x.std()]"
   ]
  },
  {
   "cell_type": "code",
   "execution_count": 7,
   "id": "dd953398",
   "metadata": {
    "scrolled": true
   },
   "outputs": [
    {
     "data": {
      "text/plain": [
       "[-4.4859439566092245, 13.285943956609225]"
      ]
     },
     "execution_count": 7,
     "metadata": {},
     "output_type": "execute_result"
    }
   ],
   "source": [
    "[x.mean() - 3 * x.std(), x.mean() + 3 * x.std()]"
   ]
  },
  {
   "cell_type": "code",
   "execution_count": 8,
   "id": "d45f26fa",
   "metadata": {},
   "outputs": [],
   "source": [
    "import statistics\n",
    "\n",
    "data = [11, 21, 11, 19, 46, 21, 19, 29, 21, 18, 3, 11, 11]"
   ]
  },
  {
   "cell_type": "code",
   "execution_count": 9,
   "id": "7ca09fd7",
   "metadata": {},
   "outputs": [
    {
     "name": "stdout",
     "output_type": "stream",
     "text": [
      "18.53846153846154\n"
     ]
    }
   ],
   "source": [
    "x = statistics.mean(data)\n",
    "print(x)"
   ]
  },
  {
   "cell_type": "code",
   "execution_count": 10,
   "id": "62beeb23",
   "metadata": {},
   "outputs": [
    {
     "name": "stdout",
     "output_type": "stream",
     "text": [
      "19\n"
     ]
    }
   ],
   "source": [
    "y = statistics.median(data)\n",
    "print(y)"
   ]
  },
  {
   "cell_type": "code",
   "execution_count": 11,
   "id": "180245a0",
   "metadata": {},
   "outputs": [
    {
     "name": "stdout",
     "output_type": "stream",
     "text": [
      "11\n"
     ]
    }
   ],
   "source": [
    "z = statistics.mode(data)\n",
    "print(z)"
   ]
  },
  {
   "cell_type": "code",
   "execution_count": 12,
   "id": "75c53e9d",
   "metadata": {},
   "outputs": [
    {
     "name": "stdout",
     "output_type": "stream",
     "text": [
      "10.611435534486562\n"
     ]
    }
   ],
   "source": [
    "a = statistics.stdev(data)\n",
    "print(a)"
   ]
  },
  {
   "cell_type": "code",
   "execution_count": 13,
   "id": "cf1ea91f",
   "metadata": {},
   "outputs": [
    {
     "name": "stdout",
     "output_type": "stream",
     "text": [
      "112.6025641025641\n"
     ]
    }
   ],
   "source": [
    "b = statistics.variance(data)\n",
    "print(b)"
   ]
  },
  {
   "cell_type": "code",
   "execution_count": 14,
   "id": "e7508e83",
   "metadata": {},
   "outputs": [],
   "source": [
    "ground=[29, 26, 13, 23, 23, 25, 17, 22, 17, 19, 12, 26, 30, 30, 18, 14, 12, 26, 17, 18]"
   ]
  },
  {
   "cell_type": "code",
   "execution_count": 15,
   "id": "4c49be41",
   "metadata": {},
   "outputs": [
    {
     "name": "stdout",
     "output_type": "stream",
     "text": [
      "20.85\n"
     ]
    }
   ],
   "source": [
    "boy = statistics.mean(ground)\n",
    "print(boy)"
   ]
  },
  {
   "cell_type": "code",
   "execution_count": 16,
   "id": "0537ad16",
   "metadata": {},
   "outputs": [
    {
     "name": "stdout",
     "output_type": "stream",
     "text": [
      "5.940715888102872\n"
     ]
    }
   ],
   "source": [
    "like = statistics.stdev(ground)\n",
    "print(like)"
   ]
  },
  {
   "cell_type": "code",
   "execution_count": 17,
   "id": "4f6ec2c2",
   "metadata": {},
   "outputs": [],
   "source": [
    "import math"
   ]
  },
  {
   "cell_type": "code",
   "execution_count": 18,
   "id": "f41a688e",
   "metadata": {},
   "outputs": [
    {
     "name": "stdout",
     "output_type": "stream",
     "text": [
      "10.611435534486562\n"
     ]
    }
   ],
   "source": [
    "def mean(data):\n",
    "  n = len(data)\n",
    "  total = 0\n",
    "  for x in data:\n",
    "    total += int(x)\n",
    "  mean = total/n\n",
    "  return mean\n",
    "\n",
    "squaredList = []\n",
    "for number in data:\n",
    "  a = int(number)- mean(data)\n",
    "  a = a**2\n",
    "  squaredList.append(a)\n",
    "sum = 0\n",
    "for i in squaredList:\n",
    "  sum += i\n",
    "result = sum/(len(data) - 1)\n",
    "sd = math.sqrt(result)\n",
    "print(sd)"
   ]
  },
  {
   "cell_type": "code",
   "execution_count": null,
   "id": "b6fb7615",
   "metadata": {},
   "outputs": [],
   "source": []
  }
 ],
 "metadata": {
  "kernelspec": {
   "display_name": "Python 3",
   "language": "python",
   "name": "python3"
  },
  "language_info": {
   "codemirror_mode": {
    "name": "ipython",
    "version": 3
   },
   "file_extension": ".py",
   "mimetype": "text/x-python",
   "name": "python",
   "nbconvert_exporter": "python",
   "pygments_lexer": "ipython3",
   "version": "3.8.8"
  }
 },
 "nbformat": 4,
 "nbformat_minor": 5
}
